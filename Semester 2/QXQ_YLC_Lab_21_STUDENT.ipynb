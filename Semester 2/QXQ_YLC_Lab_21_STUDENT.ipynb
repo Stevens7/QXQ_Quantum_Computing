{
 "cells": [
  {
   "cell_type": "markdown",
   "id": "2b5624a2-65dd-4659-bcd3-d1fbed560d58",
   "metadata": {
    "id": "2b5624a2-65dd-4659-bcd3-d1fbed560d58"
   },
   "source": [
    "# **Lab: Week #21 | Quantum Error Correction**\n",
    "---\n",
    "\n",
    "### **Description**:\n",
    "In this week's lab, we will implement a bit flip error correcting code and simulate circuits with several different noise models in Qiskit.\n",
    "\n",
    "\n",
    "---"
   ]
  },
  {
   "cell_type": "markdown",
   "id": "eb449362-eeb9-437f-a63c-84935c496bd1",
   "metadata": {
    "id": "eb449362-eeb9-437f-a63c-84935c496bd1"
   },
   "source": [
    "## **Part 0: Importing from Qiskit**\n",
    "---\n",
    "\n",
    "**Run the code below to import everything needed for this lab.**"
   ]
  },
  {
   "cell_type": "code",
   "execution_count": null,
   "id": "a0432746",
   "metadata": {
    "id": "a0432746"
   },
   "outputs": [],
   "source": [
    "#!pip install qiskit\n",
    "\n",
    "from qiskit import QuantumCircuit, Aer, transpile, assemble, execute, Aer, IBMQ\n",
    "from qiskit.visualization import plot_histogram\n",
    "\n",
    "# Import from Qiskit Aer noise module\n",
    "from qiskit_aer.noise import (NoiseModel, QuantumError, ReadoutError,\n",
    "    pauli_error, depolarizing_error, thermal_relaxation_error)\n",
    "\n",
    "import warnings\n",
    "warnings.filterwarnings('ignore')\n",
    "\n",
    "provider = IBMQ.load_account()\n",
    "\n",
    "print(\"Libraries Imported Successfully!\")"
   ]
  },
  {
   "cell_type": "markdown",
   "id": "TrXZJK6Q6em2",
   "metadata": {
    "id": "TrXZJK6Q6em2"
   },
   "source": [
    "## **Part 1: Bit Flip Code**\n",
    "---\n",
    "\n",
    "In this section, we will implement and explore a 3-qubit bit flip error correcting code using our 5 step process:\n",
    "1. Encoding\n",
    "2. Sending Over Noisy Channel\n",
    "3. Error Detection\n",
    "4. Error Correction\n",
    "5. Decoding\n",
    "\n",
    "---"
   ]
  },
  {
   "cell_type": "markdown",
   "id": "1d283fd6",
   "metadata": {
    "id": "1d283fd6"
   },
   "source": [
    "### **Step #1: Encoding** \n",
    "\n",
    "**Together**, let's create a 3-qubit bit flip encoded quantum circuit. Specifically,\n",
    "1. Initialize a circuit with 3 qubits and 1 classical bit.\n",
    "\n",
    "2. Entangle the state of $q_0$ with the other two qubits."
   ]
  },
  {
   "cell_type": "markdown",
   "id": "H7WwpyNz-Wwu",
   "metadata": {
    "id": "H7WwpyNz-Wwu"
   },
   "source": [
    "#### **1. Initialize a circuit with 3 qubits and 1 classical bit.**"
   ]
  },
  {
   "cell_type": "code",
   "execution_count": null,
   "id": "md6fPExP7TB6",
   "metadata": {
    "id": "md6fPExP7TB6"
   },
   "outputs": [],
   "source": [
    "bitflip_circuit = # COMPLETE THIS LINE"
   ]
  },
  {
   "cell_type": "markdown",
   "id": "7bc01bdb",
   "metadata": {
    "id": "7bc01bdb"
   },
   "source": [
    "#### **2. Entangle the state of $q_0$ with the other two qubits.**\n",
    "\n",
    "This can be accomplished by applying two CNOT gates controlled by $q_0$ and targeting the other qubits, $q_1$ and $q_2$."
   ]
  },
  {
   "cell_type": "code",
   "execution_count": null,
   "id": "QP7A1xI77XSB",
   "metadata": {
    "id": "QP7A1xI77XSB"
   },
   "outputs": [],
   "source": [
    "bitflip_circuit.# COMPLETE THIS LINE\n",
    "bitflip_circuit.# COMPLETE THIS LINE\n",
    "\n",
    "bitflip_circuit.barrier()\n",
    "bitflip_circuit.draw()"
   ]
  },
  {
   "cell_type": "markdown",
   "id": "f11c3700",
   "metadata": {
    "id": "f11c3700"
   },
   "source": [
    "### **Step #2: Sending Over Noisy Channel** \n",
    "\n",
    "**Together**, let's simulate a bit-flip error on $q_0$. **Hint**: What gate flips a qubit from $|0\\rangle$ to $|1\\rangle$? "
   ]
  },
  {
   "cell_type": "code",
   "execution_count": null,
   "id": "D8Ew2nsl7vtb",
   "metadata": {
    "id": "D8Ew2nsl7vtb"
   },
   "outputs": [],
   "source": [
    "bitflip_circuit.# COMPLETE THIS LINE\n",
    "\n",
    "bitflip_circuit.barrier()\n",
    "bitflip_circuit.draw()"
   ]
  },
  {
   "cell_type": "markdown",
   "id": "24a5f692",
   "metadata": {
    "id": "24a5f692"
   },
   "source": [
    "### **Step #3: Error Detection** \n",
    "\n",
    "Next, we will detect if there's been an error by checking the *parity* (do they agree with each other or are they different?) of $q_0$ with the other qubits using CNOT gates."
   ]
  },
  {
   "cell_type": "code",
   "execution_count": null,
   "id": "G9NY3UPL8BEo",
   "metadata": {
    "id": "G9NY3UPL8BEo"
   },
   "outputs": [],
   "source": [
    "bitflip_circuit.# COMPLETE THIS LINE\n",
    "bitflip_circuit.# COMPLETE THIS LINE\n",
    "\n",
    "bitflip_circuit.barrier()\n",
    "bitflip_circuit.draw()"
   ]
  },
  {
   "cell_type": "markdown",
   "id": "662390a3",
   "metadata": {
    "id": "662390a3"
   },
   "source": [
    "### **Step #4: Error Correction** \n",
    "\n",
    "We will update $q_0$ if both $q_1$ and $q_2$ have detected a bit flip so that $q_0$ stores the correct logical state. Specifically, apply the Toffoli (CCX) gate controlled by $q_2$ and $q_1$, targeting $q_0$."
   ]
  },
  {
   "cell_type": "code",
   "execution_count": null,
   "id": "BoMIpnU5BTQh",
   "metadata": {
    "id": "BoMIpnU5BTQh"
   },
   "outputs": [],
   "source": [
    "bitflip_circuit.ccx(# COMPLETE THIS LINE\n",
    "\n",
    "bitflip_circuit.barrier()\n",
    "bitflip_circuit.draw()"
   ]
  },
  {
   "cell_type": "markdown",
   "id": "1fe6fac3",
   "metadata": {
    "id": "1fe6fac3"
   },
   "source": [
    "### **Step #5: Decoding**\n",
    "\n",
    "The logical state has been stored in $q_0$, so we will measure this to decode the final logical state.\n",
    "\n",
    "**Run the code below to simulate measuring the first qubit at the end of this circuit.**"
   ]
  },
  {
   "cell_type": "code",
   "execution_count": null,
   "id": "zQ_EbpygB7k_",
   "metadata": {
    "id": "zQ_EbpygB7k_"
   },
   "outputs": [],
   "source": [
    "bitflip_circuit.measure(0, 0)\n",
    "\n",
    "backend = Aer.get_backend('qasm_simulator')\n",
    "job = execute(bitflip_circuit, backend = backend, shots = 1024)\n",
    "\n",
    "result = job.result()\n",
    "counts = result.get_counts()\n",
    "\n",
    "plot_histogram(counts)"
   ]
  },
  {
   "cell_type": "markdown",
   "id": "3b1655fb",
   "metadata": {
    "id": "3b1655fb"
   },
   "source": [
    "### **Exercise #1** \n",
    "\n",
    "The code below combines our work from above. \n",
    "\n",
    "**Together**, let's modify this code so that the logical qubit is in the $|1\\rangle$ state instead of the $|0\\rangle$ state."
   ]
  },
  {
   "cell_type": "code",
   "execution_count": null,
   "id": "RIDAxiGyDvWn",
   "metadata": {
    "id": "RIDAxiGyDvWn"
   },
   "outputs": [],
   "source": [
    "# ENCODING\n",
    "bitflip_circuit = QuantumCircuit(3, 1)\n",
    "bitflip_circuit.cx(0, 1) \n",
    "bitflip_circuit.cx(0, 2)\n",
    "bitflip_circuit.barrier()\n",
    "\n",
    "\n",
    "# NOISY CHANNEL\n",
    "bitflip_circuit.x(0)\n",
    "bitflip_circuit.barrier()\n",
    "\n",
    "\n",
    "# ERROR DETECTION\n",
    "bitflip_circuit.cx(0, 1) \n",
    "bitflip_circuit.cx(0, 2)\n",
    "bitflip_circuit.barrier()\n",
    "\n",
    "\n",
    "# ERROR CORRECTION\n",
    "bitflip_circuit.ccx(2, 1, 0)\n",
    "bitflip_circuit.barrier()\n",
    "\n",
    "\n",
    "# DECODING\n",
    "bitflip_circuit.measure(0, 0)\n",
    "bitflip_circuit.draw()"
   ]
  },
  {
   "cell_type": "markdown",
   "id": "UFC-E5vPD0xe",
   "metadata": {
    "id": "UFC-E5vPD0xe"
   },
   "source": [
    "#### **Run the code below to simulate this circuit.**"
   ]
  },
  {
   "cell_type": "code",
   "execution_count": null,
   "id": "unewATp_Dm-7",
   "metadata": {
    "id": "unewATp_Dm-7"
   },
   "outputs": [],
   "source": [
    "backend = Aer.get_backend('qasm_simulator')\n",
    "job = execute(bitflip_circuit, backend = backend, shots = 1024)\n",
    "result = job.result()\n",
    "counts = result.get_counts()\n",
    "plot_histogram(counts)"
   ]
  },
  {
   "cell_type": "markdown",
   "id": "AwEovFMqEDRk",
   "metadata": {
    "id": "AwEovFMqEDRk"
   },
   "source": [
    "### **[OPTIONAL] Exercise #2**\n",
    "\n",
    "Modify the code below to prepare the logical qubit in the $|+\\rangle$ state."
   ]
  },
  {
   "cell_type": "code",
   "execution_count": null,
   "id": "pV9uB9NYEMqx",
   "metadata": {
    "id": "pV9uB9NYEMqx"
   },
   "outputs": [],
   "source": [
    "# ENCODING\n",
    "bitflip_circuit = QuantumCircuit(3, 1)\n",
    "bitflip_circuit.cx(0, 1) \n",
    "bitflip_circuit.cx(0, 2)\n",
    "bitflip_circuit.barrier()\n",
    "\n",
    "\n",
    "# NOISY CHANNEL\n",
    "bitflip_circuit.x(0)\n",
    "bitflip_circuit.barrier()\n",
    "\n",
    "\n",
    "# ERROR DETECTION\n",
    "bitflip_circuit.cx(0, 1) \n",
    "bitflip_circuit.cx(0, 2)\n",
    "bitflip_circuit.barrier()\n",
    "\n",
    "\n",
    "# ERROR CORRECTION\n",
    "bitflip_circuit.ccx(2, 1, 0)\n",
    "bitflip_circuit.barrier()\n",
    "\n",
    "\n",
    "# DECODING\n",
    "bitflip_circuit.measure(0, 0)\n",
    "bitflip_circuit.draw()"
   ]
  },
  {
   "cell_type": "markdown",
   "id": "7WI449UDEMqy",
   "metadata": {
    "id": "7WI449UDEMqy"
   },
   "source": [
    "#### **Run the code below to simulate this circuit.**"
   ]
  },
  {
   "cell_type": "code",
   "execution_count": null,
   "id": "zNF4OnFDEMqy",
   "metadata": {
    "id": "zNF4OnFDEMqy"
   },
   "outputs": [],
   "source": [
    "backend = Aer.get_backend('qasm_simulator')\n",
    "job = execute(bitflip_circuit, backend = backend, shots = 1024)\n",
    "result = job.result()\n",
    "counts = result.get_counts()\n",
    "plot_histogram(counts)"
   ]
  },
  {
   "cell_type": "markdown",
   "id": "XAfJFhIjGHCc",
   "metadata": {
    "id": "XAfJFhIjGHCc"
   },
   "source": [
    "### **[OPTIONAL] Exercise #3**\n",
    "\n",
    "Modify the code below with the logical qubit in the $|0\\rangle$ state and with a bit flip error on $q_1$ instead of $q_0$."
   ]
  },
  {
   "cell_type": "code",
   "execution_count": null,
   "id": "xTh4eOouGQ5s",
   "metadata": {
    "id": "xTh4eOouGQ5s"
   },
   "outputs": [],
   "source": [
    "# ENCODING\n",
    "bitflip_circuit = QuantumCircuit(3, 1)\n",
    "bitflip_circuit.cx(0, 1) \n",
    "bitflip_circuit.cx(0, 2)\n",
    "bitflip_circuit.barrier()\n",
    "\n",
    "\n",
    "# NOISY CHANNEL\n",
    "bitflip_circuit.x(0)\n",
    "bitflip_circuit.barrier()\n",
    "\n",
    "\n",
    "# ERROR DETECTION\n",
    "bitflip_circuit.cx(0, 1) \n",
    "bitflip_circuit.cx(0, 2)\n",
    "bitflip_circuit.barrier()\n",
    "\n",
    "\n",
    "# ERROR CORRECTION\n",
    "bitflip_circuit.ccx(2, 1, 0)\n",
    "bitflip_circuit.barrier()\n",
    "\n",
    "\n",
    "# DECODING\n",
    "bitflip_circuit.measure(0, 0)\n",
    "bitflip_circuit.draw()"
   ]
  },
  {
   "cell_type": "markdown",
   "id": "3HwjlqPLGQ5t",
   "metadata": {
    "id": "3HwjlqPLGQ5t"
   },
   "source": [
    "#### **Run the code below to simulate this circuit.**"
   ]
  },
  {
   "cell_type": "code",
   "execution_count": null,
   "id": "0tCfKVR2GQ5t",
   "metadata": {
    "id": "0tCfKVR2GQ5t"
   },
   "outputs": [],
   "source": [
    "backend = Aer.get_backend('qasm_simulator')\n",
    "job = execute(bitflip_circuit, backend = backend, shots = 1024)\n",
    "result = job.result()\n",
    "counts = result.get_counts()\n",
    "plot_histogram(counts)"
   ]
  },
  {
   "cell_type": "markdown",
   "id": "Yfi_t_FIESSx",
   "metadata": {
    "id": "Yfi_t_FIESSx"
   },
   "source": [
    "### **[OPTIONAL] Exercise #4**\n",
    "\n",
    "Modify the code below, with the logical qubit in the $|0\\rangle$ state, so that there's a bit flip error on both $q_0$ and $q_1$."
   ]
  },
  {
   "cell_type": "code",
   "execution_count": null,
   "id": "titv0cVcEooj",
   "metadata": {
    "id": "titv0cVcEooj"
   },
   "outputs": [],
   "source": [
    "# ENCODING\n",
    "bitflip_circuit = QuantumCircuit(3, 1)\n",
    "bitflip_circuit.cx(0, 1) \n",
    "bitflip_circuit.cx(0, 2)\n",
    "bitflip_circuit.barrier()\n",
    "\n",
    "\n",
    "# NOISY CHANNEL\n",
    "bitflip_circuit.x(0)\n",
    "bitflip_circuit.barrier()\n",
    "\n",
    "\n",
    "# ERROR DETECTION\n",
    "bitflip_circuit.cx(0, 1) \n",
    "bitflip_circuit.cx(0, 2)\n",
    "bitflip_circuit.barrier()\n",
    "\n",
    "\n",
    "# ERROR CORRECTION\n",
    "bitflip_circuit.ccx(2, 1, 0)\n",
    "bitflip_circuit.barrier()\n",
    "\n",
    "\n",
    "# DECODING\n",
    "bitflip_circuit.measure(0, 0)\n",
    "bitflip_circuit.draw()"
   ]
  },
  {
   "cell_type": "markdown",
   "id": "Yl5P1Fk1Eool",
   "metadata": {
    "id": "Yl5P1Fk1Eool"
   },
   "source": [
    "#### **Run the code below to simulate this circuit.**"
   ]
  },
  {
   "cell_type": "code",
   "execution_count": null,
   "id": "ZIB8SHicEool",
   "metadata": {
    "id": "ZIB8SHicEool"
   },
   "outputs": [],
   "source": [
    "backend = Aer.get_backend('qasm_simulator')\n",
    "job = execute(bitflip_circuit, backend = backend, shots = 1024)\n",
    "result = job.result()\n",
    "counts = result.get_counts()\n",
    "plot_histogram(counts)"
   ]
  },
  {
   "cell_type": "markdown",
   "id": "ULaMUOazE9kl",
   "metadata": {
    "id": "ULaMUOazE9kl"
   },
   "source": [
    "### **Followup Activities**\n",
    "\n",
    "To further hone your understanding of the bit flip code, consider trying the following activities:\n",
    "* Remove parts of the circuit such as the parity checks or error correcting Toffoli to see what happens.\n",
    "* Alter this code to correct for an error on a different qubit.\n",
    "* Expand this 3 qubit error correcting code to a 4+ qubit error correcting code. Can these sustain more errors than the one above? Are there patterns to how many errors an *n* qubit code can handle?"
   ]
  },
  {
   "cell_type": "markdown",
   "id": "dde37231",
   "metadata": {
    "id": "dde37231"
   },
   "source": [
    "## **Part 2: Qiskit Noise Models**\n",
    "---\n",
    "\n",
    "In this section, we will implement and explore noise models in Qiskit using the Aer Noise module."
   ]
  },
  {
   "cell_type": "markdown",
   "id": "1ae199bd",
   "metadata": {
    "id": "1ae199bd"
   },
   "source": [
    "### **Exercise #1**\n",
    "\n",
    "**Together**, let's create an empty noise model."
   ]
  },
  {
   "cell_type": "code",
   "execution_count": null,
   "id": "P0xpx38DHFcQ",
   "metadata": {
    "id": "P0xpx38DHFcQ"
   },
   "outputs": [],
   "source": [
    "noise_model = # COMPLETE THIS LINE\n",
    "\n",
    "print(noise_model)"
   ]
  },
  {
   "cell_type": "markdown",
   "id": "88007d5c",
   "metadata": {
    "id": "88007d5c"
   },
   "source": [
    "### **Exercise #2** \n",
    "\n",
    "**Together**, let's create a bit flip error that happens with a 75% probability."
   ]
  },
  {
   "cell_type": "code",
   "execution_count": null,
   "id": "e3b226f0",
   "metadata": {
    "id": "e3b226f0"
   },
   "outputs": [],
   "source": [
    "p_measurement = # COMPLETE THIS LINE\n",
    "error = pauli_error([('X', p_measurement), ('I', 1 - p_measurement)])\n",
    "\n",
    "print(error)"
   ]
  },
  {
   "cell_type": "markdown",
   "id": "15f42943",
   "metadata": {
    "id": "15f42943"
   },
   "source": [
    "### **Exercise #3**\n",
    "\n",
    "**Together**, let's add this error to the empty noise model so that it happens for X gates applied to the 0th qubit of a given circuit."
   ]
  },
  {
   "cell_type": "code",
   "execution_count": null,
   "id": "c21229a7",
   "metadata": {
    "id": "c21229a7"
   },
   "outputs": [],
   "source": [
    "noise_model.add_quantum_error(error, \"x\", [0])\n",
    "\n",
    "print(noise_model)"
   ]
  },
  {
   "cell_type": "markdown",
   "id": "jP_BU6UDN3Qo",
   "metadata": {
    "id": "jP_BU6UDN3Qo"
   },
   "source": [
    "### **Exercise #4**\n",
    "\n",
    "**Together**, let's simulate a circuit that prepares the $|1\\rangle$ state with this noise model. Specifically, let's:\n",
    "1. Create a 1 qubit and 1 classical bit circuit that prepares the qubit in the $|1\\rangle$ state and then measures.\n",
    "2. Simulate this circuit with the noise model included."
   ]
  },
  {
   "cell_type": "markdown",
   "id": "9VLMRR9DOaZc",
   "metadata": {
    "id": "9VLMRR9DOaZc"
   },
   "source": [
    "#### **1. Create a 1 qubit and 1 classical bit circuit that prepares the qubit in the $|1\\rangle$ state and then measures.**"
   ]
  },
  {
   "cell_type": "code",
   "execution_count": null,
   "id": "zLLvNz_jOm9f",
   "metadata": {
    "id": "zLLvNz_jOm9f"
   },
   "outputs": [],
   "source": [
    "# COMPLETE THIS CODE\n",
    "\n",
    "qc.draw()"
   ]
  },
  {
   "cell_type": "markdown",
   "id": "atWlIY6wOiFF",
   "metadata": {
    "id": "atWlIY6wOiFF"
   },
   "source": [
    "#### **2. Simulate this circuit with the noise model included.**"
   ]
  },
  {
   "cell_type": "code",
   "execution_count": null,
   "id": "u7ffajrEO1nO",
   "metadata": {
    "id": "u7ffajrEO1nO"
   },
   "outputs": [],
   "source": [
    "backend = Aer.get_backend('qasm_simulator')\n",
    "job = execute(qc, backend = backend, shots = 1024, noise_model = noise_model)\n",
    "result = job.result()\n",
    "counts = result.get_counts()\n",
    "plot_histogram(counts)"
   ]
  },
  {
   "cell_type": "markdown",
   "id": "cE0rlLC4UyaY",
   "metadata": {
    "id": "cE0rlLC4UyaY"
   },
   "source": [
    "### **Exercise #5**\n",
    "\n",
    "**Independently**, simulate a circuit that prepares the Bell state $\\beta_{00} = \\frac{1}{\\sqrt{2}}(|00\\rangle + |11\\rangle)$ with this noise model. Specifically:\n",
    "1. Create a 2 qubit and 2 classical bit circuit that prepares the qubits in the Bell state $\\beta_{00}$ and then measures both qubits.\n",
    "2. Simulate this circuit with the noise model included."
   ]
  },
  {
   "cell_type": "markdown",
   "id": "uMT4WsjsUyaZ",
   "metadata": {
    "id": "uMT4WsjsUyaZ"
   },
   "source": [
    "#### **1. Create a 2 qubit and 2 classical bit circuit that prepares the qubits in the Bell state $\\beta_{00}$ and then measures both qubits.**"
   ]
  },
  {
   "cell_type": "code",
   "execution_count": null,
   "id": "JbDyLC-PUyaa",
   "metadata": {
    "id": "JbDyLC-PUyaa"
   },
   "outputs": [],
   "source": [
    "# COMPLETE THIS CODE\n",
    "\n",
    "qc.draw()"
   ]
  },
  {
   "cell_type": "markdown",
   "id": "H6W-wfpPUyaa",
   "metadata": {
    "id": "H6W-wfpPUyaa"
   },
   "source": [
    "#### **2. Simulate this circuit with the noise model included.**"
   ]
  },
  {
   "cell_type": "code",
   "execution_count": null,
   "id": "I1pxrcyWUyaa",
   "metadata": {
    "id": "I1pxrcyWUyaa"
   },
   "outputs": [],
   "source": [
    "backend = Aer.get_backend('qasm_simulator')\n",
    "job = execute(qc, backend = backend, shots = 1024, noise_model = noise_model)\n",
    "result = job.result()\n",
    "counts = result.get_counts()\n",
    "plot_histogram(counts)"
   ]
  },
  {
   "cell_type": "markdown",
   "id": "bc3af2b1",
   "metadata": {
    "id": "bc3af2b1"
   },
   "source": [
    "### **Exercise #6**\n",
    "\n",
    "One way to simulate errors is by using an existing noisy backend. Real quantum hardware is not perfect and has errors, so Qiskit provides a way to extract the noise model from their devices.\n",
    "\n",
    "**Run the code below to simulate creating the $\\beta_{00}$ state on `'ibm_oslo'`.**"
   ]
  },
  {
   "cell_type": "code",
   "execution_count": null,
   "id": "b0a9788d-2552-4a2d-8137-3a2de93fa062",
   "metadata": {
    "id": "b0a9788d-2552-4a2d-8137-3a2de93fa062"
   },
   "outputs": [],
   "source": [
    "# Make a circuit\n",
    "qc = QuantumCircuit(2, 2)\n",
    "qc.h(0)\n",
    "qc.cx(0, 1)\n",
    "qc.measure([0, 1], [0, 1])\n",
    "\n",
    "\n",
    "# Extract the necessary information about the quantum hardware\n",
    "simulated_backend = provider.get_backend('ibm_oslo')\n",
    "\n",
    "noise_model = NoiseModel.from_backend(simulated_backend)\n",
    "coupling_map = backend.configuration().coupling_map\n",
    "basis_gates = noise_model.basis_gates\n",
    "\n",
    "\n",
    "# Perform a noisy simulation\n",
    "backend = Aer.get_backend('qasm_simulator')\n",
    "job = execute(qc, backend = backend, shots = 1024, \n",
    "              noise_model = noise_model,\n",
    "              coupling_map = coupling_map,\n",
    "              basis_gates = basis_gates)\n",
    "\n",
    "result = job.result()\n",
    "counts = result.get_counts()\n",
    "plot_histogram(counts)"
   ]
  },
  {
   "cell_type": "markdown",
   "id": "wRnGQ5NcWVSu",
   "metadata": {
    "id": "wRnGQ5NcWVSu"
   },
   "source": [
    "### **[OPTIONAL] Exercise #7**\n",
    "\n",
    "Simulate a circuit that prepares the Bell state $\\beta_{01} = \\frac{1}{\\sqrt{2}}(|01\\rangle + |10\\rangle)$ with either the noise model from Exercises #1 - 5 or Exercise #6. Specifically:\n",
    "1. Create a 2 qubit and 2 classical bit circuit that prepares the qubits in the Bell state $\\beta_{01}$ and then measures both qubits.\n",
    "2. Simulate this circuit with the noise model included."
   ]
  },
  {
   "cell_type": "markdown",
   "id": "l9IJdl0iWVS3",
   "metadata": {
    "id": "l9IJdl0iWVS3"
   },
   "source": [
    "#### **1. Create a 2 qubit and 2 classical bit circuit that prepares the qubits in the Bell state $\\beta_{01}$ and then measures both qubits.**\n",
    "\n",
    "<br>\n",
    "\n",
    "\n",
    "**Reminder**: $\\beta_{01} = X_0\\beta_{00}$. In other words, we can apply the X gate to the 0th qubit after preparing $\\beta_{00}."
   ]
  },
  {
   "cell_type": "code",
   "execution_count": null,
   "id": "P-_Y58OAWVS3",
   "metadata": {
    "id": "P-_Y58OAWVS3"
   },
   "outputs": [],
   "source": [
    "# COMPLETE THIS CODE\n",
    "\n",
    "qc.draw()"
   ]
  },
  {
   "cell_type": "markdown",
   "id": "37GTijGNWVS3",
   "metadata": {
    "id": "37GTijGNWVS3"
   },
   "source": [
    "#### **2. Simulate this circuit with the noise model included.**"
   ]
  },
  {
   "cell_type": "code",
   "execution_count": null,
   "id": "BuoINsRrWVS3",
   "metadata": {
    "id": "BuoINsRrWVS3"
   },
   "outputs": [],
   "source": [
    "backend = Aer.get_backend('qasm_simulator')\n",
    "job = execute(qc, backend = backend, shots = 1024, noise_model = noise_model)\n",
    "result = job.result()\n",
    "counts = result.get_counts()\n",
    "plot_histogram(counts)"
   ]
  },
  {
   "cell_type": "markdown",
   "id": "vxkMTFIDPKlr",
   "metadata": {
    "id": "vxkMTFIDPKlr"
   },
   "source": [
    "### **[OPTIONAL] Exercise #8**\n",
    "\n",
    "Simulate the same logical circuit as Exercise #4 but encoded with our 3 qubit bit flip code developed in Part 1. Specifically:\n",
    "1. Create the 3 qubit bit flip code circuit for the $|1\\rangle$ state.\n",
    "2. Simulate this circuit with the same noise model included."
   ]
  },
  {
   "cell_type": "markdown",
   "id": "0rbOgkNNPjYC",
   "metadata": {
    "id": "0rbOgkNNPjYC"
   },
   "source": [
    "#### **1. Create the 3 qubit bit flip code circuit for the $|1\\rangle$ state.**\n",
    "\n",
    "**NOTE**: The entire code is already provided in Part 1."
   ]
  },
  {
   "cell_type": "code",
   "execution_count": null,
   "id": "vRH4DCzTPjYC",
   "metadata": {
    "id": "vRH4DCzTPjYC"
   },
   "outputs": [],
   "source": [
    "# COMPLETE THIS CODE\n",
    "\n",
    "qc.draw()"
   ]
  },
  {
   "cell_type": "markdown",
   "id": "MM5KDrlWPjYD",
   "metadata": {
    "id": "MM5KDrlWPjYD"
   },
   "source": [
    "#### **2. Simulate this circuit with the noise model included.**"
   ]
  },
  {
   "cell_type": "code",
   "execution_count": null,
   "id": "sJ8qUU8jPjYD",
   "metadata": {
    "id": "sJ8qUU8jPjYD"
   },
   "outputs": [],
   "source": [
    "backend = Aer.get_backend('qasm_simulator')\n",
    "job = execute(bitflip_circuit, backend = backend, shots = 1024, noise_model = noise_model)\n",
    "result = job.result()\n",
    "counts = result.get_counts()\n",
    "plot_histogram(counts)"
   ]
  },
  {
   "cell_type": "markdown",
   "id": "tSGozRMWXD98",
   "metadata": {
    "id": "tSGozRMWXD98"
   },
   "source": [
    "### **[OPTIONAL] Exercise #9**\n",
    "\n",
    "Simulate the same logical circuit as above, but with the same error channel for all three qubits. Specifically:\n",
    "1. Create the 3 qubit bit flip code circuit for the $|1\\rangle$ state.\n",
    "2. Simulate this circuit with the new noise model."
   ]
  },
  {
   "cell_type": "markdown",
   "id": "PR57TZbWXD-G",
   "metadata": {
    "id": "PR57TZbWXD-G"
   },
   "source": [
    "#### **1. Create the 3 qubit bit flip code circuit for the $|1\\rangle$ state.**\n",
    "\n",
    "**NOTE**: This code is identical to Exercise #7 above."
   ]
  },
  {
   "cell_type": "code",
   "execution_count": null,
   "id": "3AUP1ecbXD-G",
   "metadata": {
    "id": "3AUP1ecbXD-G"
   },
   "outputs": [],
   "source": [
    "# COMPLETE THIS CODE\n",
    "\n",
    "qc.draw()"
   ]
  },
  {
   "cell_type": "markdown",
   "id": "RgpCIEEVXD-G",
   "metadata": {
    "id": "RgpCIEEVXD-G"
   },
   "source": [
    "#### **2. Simulate this circuit with the noise model included.**"
   ]
  },
  {
   "cell_type": "code",
   "execution_count": null,
   "id": "hQNsGAS_XD-G",
   "metadata": {
    "id": "hQNsGAS_XD-G"
   },
   "outputs": [],
   "source": [
    "# CREATE NOISE MODEL\n",
    "noise_model = NoiseModel()\n",
    "\n",
    "p_measurement = 0.75\n",
    "error = pauli_error([('X', p_measurement), ('I', 1 - p_measurement)])\n",
    "\n",
    "noise_model.add_all_qubit_quantum_error(error, \"x\")\n",
    "\n",
    "\n",
    "# SIMULATE WITH NOISE MODEL\n",
    "backend = Aer.get_backend('qasm_simulator')\n",
    "job = execute(bitflip_circuit, backend = backend, shots = 1024, noise_model = noise_model)\n",
    "result = job.result()\n",
    "counts = result.get_counts()\n",
    "plot_histogram(counts)"
   ]
  },
  {
   "cell_type": "markdown",
   "id": "fghHPCgZdNSf",
   "metadata": {
    "id": "fghHPCgZdNSf"
   },
   "source": [
    "### **[OPTIONAL] Exercise #10**\n",
    "\n",
    "Simulate the same circuit as in Exercise #4, but with a new noise model that creates a bit flip error for all qubits with measurements instead of X gates. Specifically:\n",
    "1. Create a 1 qubit and 1 classical bit circuit that prepares the qubit in the $|1\\rangle$ state and then measures.\n",
    "2. Simulate this circuit with the new noise model."
   ]
  },
  {
   "cell_type": "markdown",
   "id": "Yee4ktkwdNSo",
   "metadata": {
    "id": "Yee4ktkwdNSo"
   },
   "source": [
    "#### **1. Create a 1 qubit and 1 classical bit circuit that prepares the qubit in the $|1\\rangle$ state and then measures.**\n",
    "\n",
    "**NOTE**: This part is identical to Exercise #4's circuit creation."
   ]
  },
  {
   "cell_type": "code",
   "execution_count": null,
   "id": "mIEFdXeYdNSo",
   "metadata": {
    "id": "mIEFdXeYdNSo"
   },
   "outputs": [],
   "source": [
    "# COMPLETE THIS CODE\n",
    "\n",
    "qc.draw()"
   ]
  },
  {
   "cell_type": "markdown",
   "id": "cYHgBskVdNSp",
   "metadata": {
    "id": "cYHgBskVdNSp"
   },
   "source": [
    "#### **2. Simulate this circuit with the noise model included.**"
   ]
  },
  {
   "cell_type": "code",
   "execution_count": null,
   "id": "odFqSAindNSp",
   "metadata": {
    "id": "odFqSAindNSp"
   },
   "outputs": [],
   "source": [
    "# CREATE NOISE MODEL\n",
    "noise_model = NoiseModel()\n",
    "\n",
    "p_error = 0.75\n",
    "error = pauli_error([('X', p_error), ('I', 1 - p_error)])\n",
    "\n",
    "noise_model.add_all_qubit_quantum_error(error, \"measurement\")\n",
    "\n",
    "\n",
    "# SIMULATE WITH NOISE MODEL\n",
    "backend = Aer.get_backend('qasm_simulator')\n",
    "job = execute(qc, backend = backend, shots = 1024, noise_model = noise_model)\n",
    "result = job.result()\n",
    "counts = result.get_counts()\n",
    "plot_histogram(counts)"
   ]
  },
  {
   "cell_type": "markdown",
   "id": "BF1dNzrLntod",
   "metadata": {
    "id": "BF1dNzrLntod"
   },
   "source": [
    "# End of Lab\n",
    "\n",
    "---\n",
    "\n",
    "© 2023 The Coding School, All rights reserved"
   ]
  }
 ],
 "metadata": {
  "colab": {
   "provenance": []
  },
  "kernelspec": {
   "display_name": "Python 3 (ipykernel)",
   "language": "python",
   "name": "python3"
  },
  "language_info": {
   "codemirror_mode": {
    "name": "ipython",
    "version": 3
   },
   "file_extension": ".py",
   "mimetype": "text/x-python",
   "name": "python",
   "nbconvert_exporter": "python",
   "pygments_lexer": "ipython3",
   "version": "3.10.8"
  },
  "widgets": {
   "application/vnd.jupyter.widget-state+json": {
    "state": {},
    "version_major": 2,
    "version_minor": 0
   }
  }
 },
 "nbformat": 4,
 "nbformat_minor": 5
}

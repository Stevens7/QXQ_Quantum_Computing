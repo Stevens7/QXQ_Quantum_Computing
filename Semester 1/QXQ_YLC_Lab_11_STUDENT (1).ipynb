{
 "cells": [
  {
   "cell_type": "markdown",
   "id": "PwzxHjX_YYNn",
   "metadata": {
    "id": "PwzxHjX_YYNn"
   },
   "source": [
    "# [SOLUTIONS] Lab: Week #11 | Semester 1 Review\n",
    "---\n",
    "\n",
    "### **Description**:  \n",
    "In this week's lab, we will see how entangled qubits and circuits can be used to turn classical games into quantum games.\n",
    "\n",
    "**Part 0:** Import Libraries<br>\n",
    "**Part 1:** Coin Flip Game <br>\n",
    "**Part 2:** Tic Tac Toe<br>\n",
    "**Optional Python Review** Optional homework to review Python \n",
    "\n",
    "<br>\n",
    "\n",
    "### **Cheat Sheets**:  \n",
    "\n",
    "[Updated Qiskit Cheat Sheet](https://docs.google.com/document/d/1GArKBUksi4pMgcEBc4OpvWp2KREPpnQvq0AgyijJnkI/edit?usp=share_link)\n",
    "\n",
    "[Loops and Conditionals Cheat Sheet](https://docs.google.com/document/d/1WKvv22SC7pA0TCqCJnxgZOf2tHjvTotaHYEtOx2FNkI/edit?usp=share_link)\n",
    "\n",
    "\n",
    "---"
   ]
  },
  {
   "cell_type": "markdown",
   "id": "k0Lsovb5VOKP",
   "metadata": {
    "id": "k0Lsovb5VOKP",
    "tags": []
   },
   "source": [
    "## **Part 0: Import Libraries**\n",
    "---\n",
    "\n",
    "Run the cell below before doing anything else. This will import all of the libraries that we will use today."
   ]
  },
  {
   "cell_type": "code",
   "execution_count": 1,
   "id": "2fdb668d-f835-4c9e-96fb-ba4b68863892",
   "metadata": {
    "colab": {
     "base_uri": "https://localhost:8080/"
    },
    "id": "2fdb668d-f835-4c9e-96fb-ba4b68863892",
    "outputId": "8614c63a-3ac1-4b44-f714-13a97835bfa5"
   },
   "outputs": [
    {
     "name": "stdout",
     "output_type": "stream",
     "text": [
      "Requirement already satisfied: qiskit in /opt/conda/lib/python3.8/site-packages (0.39.2)\n",
      "Requirement already satisfied: qiskit-terra==0.22.2 in /opt/conda/lib/python3.8/site-packages (from qiskit) (0.22.2)\n",
      "Requirement already satisfied: qiskit-aer==0.11.1 in /opt/conda/lib/python3.8/site-packages (from qiskit) (0.11.1)\n",
      "Requirement already satisfied: qiskit-ibmq-provider==0.19.2 in /opt/conda/lib/python3.8/site-packages (from qiskit) (0.19.2)\n",
      "Requirement already satisfied: numpy>=1.16.3 in /opt/conda/lib/python3.8/site-packages (from qiskit-aer==0.11.1->qiskit) (1.22.4)\n",
      "Requirement already satisfied: scipy>=1.0 in /opt/conda/lib/python3.8/site-packages (from qiskit-aer==0.11.1->qiskit) (1.8.0)\n",
      "Requirement already satisfied: requests-ntlm>=1.1.0 in /opt/conda/lib/python3.8/site-packages (from qiskit-ibmq-provider==0.19.2->qiskit) (1.1.0)\n",
      "Requirement already satisfied: urllib3>=1.21.1 in /opt/conda/lib/python3.8/site-packages (from qiskit-ibmq-provider==0.19.2->qiskit) (1.26.9)\n",
      "Requirement already satisfied: websockets>=10.0 in /opt/conda/lib/python3.8/site-packages (from qiskit-ibmq-provider==0.19.2->qiskit) (10.4)\n",
      "Requirement already satisfied: python-dateutil>=2.8.0 in /opt/conda/lib/python3.8/site-packages (from qiskit-ibmq-provider==0.19.2->qiskit) (2.8.2)\n",
      "Requirement already satisfied: websocket-client>=1.0.1 in /opt/conda/lib/python3.8/site-packages (from qiskit-ibmq-provider==0.19.2->qiskit) (1.3.2)\n",
      "Requirement already satisfied: requests>=2.19 in /opt/conda/lib/python3.8/site-packages (from qiskit-ibmq-provider==0.19.2->qiskit) (2.27.1)\n",
      "Requirement already satisfied: psutil>=5 in /opt/conda/lib/python3.8/site-packages (from qiskit-terra==0.22.2->qiskit) (5.9.0)\n",
      "Requirement already satisfied: retworkx>=0.11.0 in /opt/conda/lib/python3.8/site-packages (from qiskit-terra==0.22.2->qiskit) (0.11.0)\n",
      "Requirement already satisfied: sympy>=1.3 in /opt/conda/lib/python3.8/site-packages (from qiskit-terra==0.22.2->qiskit) (1.10.1)\n",
      "Requirement already satisfied: stevedore>=3.0.0 in /opt/conda/lib/python3.8/site-packages (from qiskit-terra==0.22.2->qiskit) (3.5.0)\n",
      "Requirement already satisfied: tweedledum<2.0,>=1.1 in /opt/conda/lib/python3.8/site-packages (from qiskit-terra==0.22.2->qiskit) (1.1.1)\n",
      "Requirement already satisfied: symengine>=0.9 in /opt/conda/lib/python3.8/site-packages (from qiskit-terra==0.22.2->qiskit) (0.9.2)\n",
      "Requirement already satisfied: dill>=0.3 in /opt/conda/lib/python3.8/site-packages (from qiskit-terra==0.22.2->qiskit) (0.3.4)\n",
      "Requirement already satisfied: ply>=3.10 in /opt/conda/lib/python3.8/site-packages (from qiskit-terra==0.22.2->qiskit) (3.11)\n",
      "Requirement already satisfied: six>=1.5 in /opt/conda/lib/python3.8/site-packages (from python-dateutil>=2.8.0->qiskit-ibmq-provider==0.19.2->qiskit) (1.16.0)\n",
      "Requirement already satisfied: certifi>=2017.4.17 in /opt/conda/lib/python3.8/site-packages (from requests>=2.19->qiskit-ibmq-provider==0.19.2->qiskit) (2021.10.8)\n",
      "Requirement already satisfied: charset-normalizer~=2.0.0 in /opt/conda/lib/python3.8/site-packages (from requests>=2.19->qiskit-ibmq-provider==0.19.2->qiskit) (2.0.12)\n",
      "Requirement already satisfied: idna<4,>=2.5 in /opt/conda/lib/python3.8/site-packages (from requests>=2.19->qiskit-ibmq-provider==0.19.2->qiskit) (3.3)\n",
      "Requirement already satisfied: cryptography>=1.3 in /opt/conda/lib/python3.8/site-packages (from requests-ntlm>=1.1.0->qiskit-ibmq-provider==0.19.2->qiskit) (36.0.2)\n",
      "Requirement already satisfied: ntlm-auth>=1.0.2 in /opt/conda/lib/python3.8/site-packages (from requests-ntlm>=1.1.0->qiskit-ibmq-provider==0.19.2->qiskit) (1.5.0)\n",
      "Requirement already satisfied: cffi>=1.12 in /opt/conda/lib/python3.8/site-packages (from cryptography>=1.3->requests-ntlm>=1.1.0->qiskit-ibmq-provider==0.19.2->qiskit) (1.15.0)\n",
      "Requirement already satisfied: pycparser in /opt/conda/lib/python3.8/site-packages (from cffi>=1.12->cryptography>=1.3->requests-ntlm>=1.1.0->qiskit-ibmq-provider==0.19.2->qiskit) (2.21)\n",
      "Requirement already satisfied: pbr!=2.1.0,>=2.0.0 in /opt/conda/lib/python3.8/site-packages (from stevedore>=3.0.0->qiskit-terra==0.22.2->qiskit) (5.8.1)\n",
      "Requirement already satisfied: mpmath>=0.19 in /opt/conda/lib/python3.8/site-packages (from sympy>=1.3->qiskit-terra==0.22.2->qiskit) (1.2.1)\n"
     ]
    }
   ],
   "source": [
    "!pip install qiskit\n",
    "\n",
    "from qiskit import QuantumCircuit \n",
    "\n",
    "from qiskit import Aer, execute\n",
    "from qiskit.visualization import *\n",
    "\n",
    "import warnings \n",
    "warnings.filterwarnings(\"ignore\")\n",
    "\n",
    "from qiskit.tools.jupyter import *\n",
    "from qiskit.visualization import *\n",
    "import qiskit.tools.jupyter #Repetition of line 1?\n",
    "import ipywidgets as widgets\n",
    "from IPython.display import clear_output"
   ]
  },
  {
   "cell_type": "markdown",
   "id": "sVwVviQORgWa",
   "metadata": {
    "id": "sVwVviQORgWa",
    "tags": []
   },
   "source": [
    "## **Part 1: Coin Flip Game**\n",
    "---\n",
    "\n",
    "**Exercise 1:** Classic version of game\n",
    "\n",
    "**Exercise 2:** Quantum version of game"
   ]
  },
  {
   "cell_type": "markdown",
   "id": "ygbX_FcFUVuL",
   "metadata": {
    "id": "ygbX_FcFUVuL"
   },
   "source": [
    "#### **Exercise #1** \n",
    "\n"
   ]
  },
  {
   "cell_type": "code",
   "execution_count": 2,
   "id": "09fab181-db1f-46b2-8a6b-0a5d9459fc7d",
   "metadata": {
    "colab": {
     "base_uri": "https://localhost:8080/",
     "height": 133,
     "referenced_widgets": [
      "9a154398741d4890a436ac6c23777c2d",
      "72d4482208704774b094368ec7f94fa3",
      "be45a4861d8d4f46b34da96b1d1cb956",
      "ee83a8fa51a34c8f9f3a8693c5a6661c",
      "1ca377f5ea024f3f9f777f81b9ac509b",
      "087f0b0935634980a381d6293a5b7608",
      "cf8fd74ff2f34facbc6b3ccc1b930774",
      "6de285ebb7734a2687553deb0298201b",
      "261234d8604941e8b74d27bee15b287f",
      "ea64d8199e4d47348f871ff23f3d38f2"
     ]
    },
    "id": "09fab181-db1f-46b2-8a6b-0a5d9459fc7d",
    "outputId": "538d670d-b994-4c30-cefe-9bb69f2afa69"
   },
   "outputs": [
    {
     "name": "stdout",
     "output_type": "stream",
     "text": [
      "Welcome to the Quantum Coin Game. The coin starts off as Heads, which corresponds to |0>.\n",
      "You are playing against the Quantum Computer. The Quantum Computer will take its turn first.\n",
      "The Quantum Computer has just played its turn. Choose what you are going to do now.\n"
     ]
    },
    {
     "data": {
      "application/vnd.jupyter.widget-view+json": {
       "model_id": "456cad69e2fd4ce48db7de03aaa9fde9",
       "version_major": 2,
       "version_minor": 0
      },
      "text/plain": [
       "VBox(children=(Dropdown(description='Choice: ', options=(('Do not flip the coin', 'Do Nothing'), ('Flip the co…"
      ]
     },
     "metadata": {},
     "output_type": "display_data"
    }
   ],
   "source": [
    "print(\"Welcome to the Quantum Coin Game. The coin starts off as Heads, which corresponds to |0>.\")\n",
    "print(\"You are playing against the Quantum Computer. The Quantum Computer will take its turn first.\")\n",
    "print(\"The Quantum Computer has just played its turn. Choose what you are going to do now.\")\n",
    "\n",
    "button = widgets.Button(\n",
    "    description='Play')\n",
    "player2_move = widgets.Dropdown(\n",
    "    options=[('Do not flip the coin', 'Do Nothing'), ('Flip the coin', 'Apply X gate')],\n",
    "    description='Choice: ',\n",
    "    disabled=False,\n",
    ")\n",
    "out = widgets.Output()\n",
    "def on_button_clicked(b):\n",
    "    with out:\n",
    " #--------------------------------------------CODE FOR GAME STARTS HERE----------------------------------------------------------#       \n",
    "        # Initial Circuit, coin starts in the 0 state\n",
    "        qc = QuantumCircuit(1, 1) #circuit with one quantum bit and one classical bit\n",
    "      \n",
    "        # Turn 1: Computer makes a move. \n",
    "        qc.x(0)\n",
    "\n",
    "        # Turn 2: You make a move.\n",
    "        if player2_move.value == 'Do nothing':\n",
    "            print('You chose to do nothing')\n",
    "        if player2_move.value == 'Apply X gate':\n",
    "            qc.x(0)\n",
    "            print('You chose to flip')\n",
    "      \n",
    "        # Turn 3: Computer makes the last move\n",
    "        qc.x(0)\n",
    "\n",
    "        print('The Computer has played its turn')\n",
    "\n",
    "        # Game is done, time to see what state the coin ended up in\n",
    "        qc.measure(0,0)                                                                  \n",
    "        \n",
    "        # QASM \n",
    "        backend= Aer.get_backend('qasm_simulator')                                        \n",
    "        job = execute(qc, backend, shots=1)                                              \n",
    "        result = job.result() \n",
    "        counts = result.get_counts()                                                    \n",
    "                                                                                       \n",
    "        if '0' in counts:\n",
    "            print(\"You Lose to the Computer. TheComputer Wins. Try again!\")\n",
    "        if '1' in counts:\n",
    "            print(\"You Win against the Computer. Great job!\")\n",
    "            \n",
    "        print(\"\\n\\n\\n\")\n",
    " #--------------------------------------------CODE FOR GAME ENDS HERE----------------------------------------------------------# \n",
    "\n",
    "button.on_click(on_button_clicked)\n",
    "widgets.VBox([player2_move, button, out])"
   ]
  },
  {
   "cell_type": "markdown",
   "id": "pwpt38KFbAwn",
   "metadata": {
    "id": "pwpt38KFbAwn"
   },
   "source": [
    "**Exercise #2** \n",
    "\n",
    "Copy the code for the game between the green comment lines from exercise 1 and paste it below the green comment line that says **code for game starts here**.\n",
    "\n",
    "Then, change the gates in turns 1 and 3 to be H gates instead of X gates.\n"
   ]
  },
  {
   "cell_type": "code",
   "execution_count": 5,
   "id": "5b921c1e-5494-4dfa-bad5-ec1834a8eb9d",
   "metadata": {
    "colab": {
     "base_uri": "https://localhost:8080/",
     "height": 130
    },
    "id": "5b921c1e-5494-4dfa-bad5-ec1834a8eb9d",
    "outputId": "2f1a8c84-8192-49a2-b009-ec1ffc6895fa"
   },
   "outputs": [
    {
     "name": "stdout",
     "output_type": "stream",
     "text": [
      "Welcome to the Quantum Coin Game. The coin starts off as Heads, which corresponds to |0>.\n",
      "You are playing against the Quantum Computer. The Quantum Computer will take its turn first.\n",
      "The Quantum Computer has just played its turn. Choose what you are going to do now.\n"
     ]
    },
    {
     "data": {
      "application/vnd.jupyter.widget-view+json": {
       "model_id": "fb8f31ee66634a2c9f9b20a07f5a2dac",
       "version_major": 2,
       "version_minor": 0
      },
      "text/plain": [
       "VBox(children=(Dropdown(description='Choice: ', options=(('Do not flip the coin', 'Do Nothing'), ('Flip the co…"
      ]
     },
     "metadata": {},
     "output_type": "display_data"
    }
   ],
   "source": [
    "print(\"Welcome to the Quantum Coin Game. The coin starts off as Heads, which corresponds to |0>.\")\n",
    "print(\"You are playing against the Quantum Computer. The Quantum Computer will take its turn first.\")\n",
    "print(\"The Quantum Computer has just played its turn. Choose what you are going to do now.\")\n",
    "\n",
    "button = widgets.Button(\n",
    "    description='Play')\n",
    "player2_move = widgets.Dropdown(\n",
    "    options=[('Do not flip the coin', 'Do Nothing'), ('Flip the coin', 'Apply X gate')],\n",
    "    description='Choice: ',\n",
    "    disabled=False,\n",
    ")\n",
    "out = widgets.Output()\n",
    "def on_button_clicked(b):\n",
    "    with out:\n",
    " #--------------------------------------------CODE FOR GAME STARTS HERE----------------------------------------------------------#       \n",
    "        # Initial Circuit, coin starts in the 0 state\n",
    "        qc = QuantumCircuit(1, 1) #circuit with one quantum bit and one classical bit\n",
    "      \n",
    "        # Turn 1: Computer makes a move. \n",
    "        qc.h(0)\n",
    "\n",
    "        # Turn 2: You make a move.\n",
    "        if player2_move.value == 'Do nothing':\n",
    "            print('You chose to do nothing')\n",
    "        if player2_move.value == 'Apply X gate':\n",
    "            qc.x(0)\n",
    "            print('You chose to flip')\n",
    "      \n",
    "        # Turn 3: Computer makes the last move\n",
    "        qc.h(0)\n",
    "\n",
    "        print('The Computer has played its turn')\n",
    "\n",
    "        # Game is done, time to see what state the coin ended up in\n",
    "        qc.measure(0,0)                                                                  \n",
    "        \n",
    "        # QASM \n",
    "        backend= Aer.get_backend('qasm_simulator')                                        \n",
    "        job = execute(qc, backend, shots=1)                                              \n",
    "        result = job.result() \n",
    "        counts = result.get_counts()                                                    \n",
    "                                                                                       \n",
    "        if '0' in counts:\n",
    "            print(\"You Lose to the Computer. TheComputer Wins. Try again!\")\n",
    "        if '1' in counts:\n",
    "            print(\"You Win against the Computer. Great job!\")\n",
    "            \n",
    "        print(\"\\n\\n\\n\")\n",
    " #--------------------------------------------CODE FOR GAME ENDS HERE----------------------------------------------------------# \n",
    "\n",
    "button.on_click(on_button_clicked)\n",
    "widgets.VBox([player2_move, button, out])"
   ]
  },
  {
   "cell_type": "markdown",
   "id": "EaZZHsk1gp1P",
   "metadata": {
    "id": "EaZZHsk1gp1P"
   },
   "source": [
    "## **Part 2: Tic Tac Toe**\n",
    "\n",
    "\n",
    "\n",
    "**Exercise 1:** Setup\n",
    "\n",
    "**Exercise 2:** Moves\n",
    "\n",
    "**Exercise 3:** Gameplay\n",
    "\n",
    "<br>"
   ]
  },
  {
   "cell_type": "markdown",
   "id": "l8U8pPoxkjAh",
   "metadata": {
    "id": "l8U8pPoxkjAh"
   },
   "source": [
    "**Exercise 1:** Setup\n",
    "\n",
    "**Run this code before continuing.**"
   ]
  },
  {
   "cell_type": "code",
   "execution_count": 6,
   "id": "mp7aFXrSBveS",
   "metadata": {
    "id": "mp7aFXrSBveS"
   },
   "outputs": [],
   "source": [
    "def setup():\n",
    "\n",
    "  global output_board, quantum_board, current_player, num_entangled\n",
    "\n",
    "  # Represent board as 3 X 3 array of strings: ' ', 'X', 'O'\n",
    "  output_board = [['  ', '  ', '  '], ['  ', '  ', '  '], ['  ', '  ', '  ']]\n",
    "\n",
    "  # Quantum Board\n",
    "  quantum_board = QuantumCircuit(9, 9)\n",
    "\n",
    "  # Setting up gameplay\n",
    "  current_player = 'X'\n",
    "  num_entangled = 0\n",
    "\n",
    "#===============================================================================\n",
    "# Print the current board \n",
    "def print_board():\n",
    "\n",
    "  clear_output(wait=False)\n",
    "\n",
    "  print('\\n\\n')\n",
    "  for row in range(3):\n",
    "    print('\\n' + '='*16 + '\\n| ', end = '')\n",
    "\n",
    "    for col in range(3):\n",
    "      if output_board[row][col] == '  ':\n",
    "        out = str(row * 3 + col) + ' '\n",
    "      else:\n",
    "        out = output_board[row][col]\n",
    "\n",
    "      print(out + ' | ', end = '')\n",
    "\n",
    "  print('\\n' + '='*16)\n",
    "  print('\\n\\n')\n",
    "\n",
    "# See who the winner is:  ' ' (no one yet), 'X wins!', 'O wins!', 'It's a draw!'\n",
    "def get_winner():\n",
    "\n",
    "  # Horizontal\n",
    "  for row in range(3):\n",
    "    if output_board[row][0] == output_board[row][1] and output_board[row][1] == output_board[row][2] and output_board[row][0] != '  ':\n",
    "      return output_board[row][0] + ' wins!'\n",
    "\n",
    "  # Vertical\n",
    "  for col in range(3):\n",
    "    if output_board[0][col] == output_board[1][col] and output_board[1][col] == output_board[2][col] and output_board[0][col] != '  ': \n",
    "      return output_board[0][col] + ' wins!'\n",
    "\n",
    "  # Diagonal\n",
    "  if output_board[0][0] == output_board[1][1] and output_board[1][1] == output_board[2][2] and output_board[0][0] != '  ':\n",
    "    return output_board[0][0] + ' wins!'\n",
    "\n",
    "  if output_board[0][2] == output_board[1][1] and output_board[1][1] == output_board[2][0] and output_board[0][2] != '  ':\n",
    "    return output_board[0][2] + ' wins!'\n",
    "\n",
    "\n",
    "  # Check for a draw\n",
    "  if '  ' in output_board[0] or '  ' in output_board[1] or '  ' in output_board[2]: return '  '\n",
    "  elif 'e0' in output_board[0] or 'e0' in output_board[1] or 'e0' in output_board[2]: \n",
    "    measurement()\n",
    "    return get_winner()\n",
    "\n",
    "  else: return 'It\\'s a draw!'"
   ]
  },
  {
   "cell_type": "markdown",
   "id": "qnrz5E8Ska3D",
   "metadata": {
    "id": "qnrz5E8Ska3D"
   },
   "source": [
    "**Exercise 2:** Moves\n",
    "\n",
    "These are functions that allow us to make different moves. Currently: `classical_move` which places a player's marker on a given spot, `quantum_move` which entangles two spots to disagree with each other, and `measurement` which measures the quantum board and collapses any entanglement/superposition.\n",
    "\n",
    "**Run this code before continuing.**"
   ]
  },
  {
   "cell_type": "code",
   "execution_count": 7,
   "id": "QfhfHJY7i8nN",
   "metadata": {
    "id": "QfhfHJY7i8nN"
   },
   "outputs": [],
   "source": [
    "def classical_move():\n",
    "\n",
    "  global output_board, quantum_board, current_player\n",
    "\n",
    "  # Pick the spot (making sure it's actually open)\n",
    "  spot = int(input(\"Where would you like to place your marker? (0 - 8)\"))\n",
    "  while output_board[spot // 3][spot % 3] != '  ':\n",
    "    spot = int(input(\"It must be an open spot. Where would you like to place your marker? (0 - 8)\"))\n",
    "\n",
    "  # For the X player, switch from a 0 to a 1\n",
    "  if current_player == 'X':\n",
    "    quantum_board.x(spot)\n",
    "\n",
    "  # Update the output board\n",
    "  output_board[spot // 3][spot % 3] = current_player + ' '\n",
    "\n",
    "\n",
    "#===============================================================================\n",
    "\n",
    "\n",
    "def quantum_move():\n",
    "  \n",
    "  global output_board, quantum_board, num_entangled\n",
    "\n",
    "  # Pick the spots (making sure they're actually open)\n",
    "  spot1 = int(input(\"Where would you like to place the first entangled marker? (0 - 8)\"))\n",
    "  while output_board[spot1 // 3][spot1 % 3] != '  ':\n",
    "    spot1 = int(input(\"It must be an open spot. Where would you like to place the first entangled marker? (0 - 8)\"))\n",
    "\n",
    "\n",
    "  spot2 = int(input(\"Where would you like to place the second entangled marker? (0 - 8)\"))\n",
    "  while output_board[spot2 // 3][spot2 % 3] != '  ' or spot2 == spot1:\n",
    "    spot2 = int(input(\"It must be an open spot. Where would you like to place the second entangled marker? (0 - 8)\"))\n",
    "\n",
    "\n",
    "  # Update the quantum board\n",
    "  quantum_board.h(spot1)\n",
    "  quantum_board.x(spot2)\n",
    "  quantum_board.cx(spot1, spot2)\n",
    "\n",
    "\n",
    "  # Update the output board\n",
    "  output_board[spot1 // 3][spot1 % 3] = 'e' + str(num_entangled)\n",
    "  output_board[spot2 // 3][spot2 % 3] = 'e' + str(num_entangled)\n",
    "  num_entangled += 1\n",
    "\n",
    "\n",
    "#===============================================================================\n",
    "\n",
    "\n",
    "def measurement():\n",
    "\n",
    "  global output_board, quantum_board\n",
    "    \n",
    "  # Add measurement to board\n",
    "  quantum_board.measure([i for i in range(9)], [i for i in range(9)])\n",
    "\n",
    "  print(quantum_board.draw('text'))\n",
    "\n",
    "  # Get simulated results using QASM\n",
    "  backend = Aer.get_backend('qasm_simulator')\n",
    "  job = execute(quantum_board, backend, shots = 1)\n",
    "  results = job.result()\n",
    "  counts = results.get_counts()\n",
    "\n",
    "  # Unpack results and update boards\n",
    "  # NOTE: Qiskit requires us to make an entirely new board after measuring\n",
    "  result = str(list(counts.keys())[0])[::-1]\n",
    "  print(result)\n",
    "\n",
    "  quantum_board = QuantumCircuit(9, 9)\n",
    "  for spot in range(9):\n",
    "\n",
    "    # The only moves that need to be updated are the entangled ones\n",
    "    if 'e' in output_board[spot // 3][spot % 3]:\n",
    "      if result[spot] == '0': \n",
    "        output_board[spot // 3][spot % 3] = 'O '\n",
    "      else: \n",
    "        output_board[spot // 3][spot % 3] = 'X '\n",
    "        \n",
    "        quantum_board.x(spot)"
   ]
  },
  {
   "cell_type": "markdown",
   "id": "ZyAM0obTk44r",
   "metadata": {
    "id": "ZyAM0obTk44r"
   },
   "source": [
    "**Exercise 3:** Gameplay\n",
    "\n",
    "**Run this code to play the game.**"
   ]
  },
  {
   "cell_type": "code",
   "execution_count": 8,
   "id": "BOt_P33ji7NL",
   "metadata": {
    "id": "BOt_P33ji7NL"
   },
   "outputs": [
    {
     "name": "stdout",
     "output_type": "stream",
     "text": [
      "\n",
      "\n",
      "\n",
      "\n",
      "================\n",
      "| X  | 1  | 2  | \n",
      "================\n",
      "| X  | O  | 5  | \n",
      "================\n",
      "| X  | O  | X  | \n",
      "================\n",
      "\n",
      "\n",
      "\n",
      "X  wins!\n"
     ]
    }
   ],
   "source": [
    "setup()\n",
    "\n",
    "while get_winner() == '  ':\n",
    "\n",
    "  print_board()\n",
    "\n",
    "  print(\"Player \" + str(current_player) + \": Make your move: \")\n",
    "  print(\"1. Classical move (place marker in an open spot)\")\n",
    "  print(\"2. Quantum move (entangle two open spots to disagree with each other)\")\n",
    "  print(\"3. Measure board\")\n",
    "\n",
    "  move = int(input(\"Move (1, 2, or 3): \"))\n",
    "\n",
    "  # Go to the relevant function\n",
    "  if move == 1: \n",
    "    classical_move()\n",
    "\n",
    "  elif move == 2: \n",
    "    quantum_move()\n",
    "    num_entangled += 1\n",
    "    \n",
    "  elif move == 3: \n",
    "    measurement()\n",
    "    num_entangled = 0\n",
    "\n",
    "  else:\n",
    "    print(\"Invalid option. Move forfitted :(\")\n",
    "\n",
    "\n",
    "  # Switch to the other player for the next move\n",
    "  if current_player == 'X':\n",
    "    current_player = 'O'\n",
    "  else:\n",
    "    current_player = 'X'\n",
    "\n",
    "\n",
    "print_board()\n",
    "print(get_winner())"
   ]
  },
  {
   "cell_type": "markdown",
   "id": "onf8WWxqLbZc",
   "metadata": {
    "id": "onf8WWxqLbZc"
   },
   "source": [
    "##**Optional Python Review**\n",
    "---"
   ]
  },
  {
   "cell_type": "markdown",
   "id": "jLPLuqynLvTq",
   "metadata": {
    "id": "jLPLuqynLvTq"
   },
   "source": [
    "**Variables**\n",
    "\n",
    "Create variable with your name.<br>\n",
    "Create a variable with your age.<br>\n",
    "Print the following \"My name is [variable] and I am [variable] years old.\""
   ]
  },
  {
   "cell_type": "code",
   "execution_count": null,
   "id": "g6wpszQyLhgG",
   "metadata": {
    "id": "g6wpszQyLhgG"
   },
   "outputs": [],
   "source": [
    "\n"
   ]
  },
  {
   "cell_type": "markdown",
   "id": "Yk3Vhip1MtzV",
   "metadata": {
    "id": "Yk3Vhip1MtzV"
   },
   "source": [
    "**Lists**\n",
    "\n",
    "Create a list of your three favorite foods. <br>\n",
    "Add an item to your list at the end.<br>\n",
    "Remove an item from your list. <br>\n",
    "Replace one item with another item.<br>\n",
    "Print your list after each change.\n"
   ]
  },
  {
   "cell_type": "code",
   "execution_count": null,
   "id": "niWx4blFMuIe",
   "metadata": {
    "id": "niWx4blFMuIe"
   },
   "outputs": [],
   "source": []
  },
  {
   "cell_type": "markdown",
   "id": "4UFSf8wROToB",
   "metadata": {
    "id": "4UFSf8wROToB"
   },
   "source": [
    "**Functions**\n",
    "\n",
    "Create a function to print your list of favorite foods (you can copy and paste from the previous exercise). Then call your function.<br>\n"
   ]
  },
  {
   "cell_type": "code",
   "execution_count": null,
   "id": "J1diipzNoTCK",
   "metadata": {
    "id": "J1diipzNoTCK"
   },
   "outputs": [],
   "source": []
  },
  {
   "cell_type": "markdown",
   "id": "IIbzMOV-nbI2",
   "metadata": {
    "id": "IIbzMOV-nbI2"
   },
   "source": [
    "**Variables and Printing**\n",
    "\n",
    "Make a variable called teacher and store the name of your favorite teacher in it. Then print it out in a phrase that says \"My favorite teacher is (variable)\".\n"
   ]
  },
  {
   "cell_type": "code",
   "execution_count": null,
   "id": "iU0RnaFFpOX2",
   "metadata": {
    "id": "iU0RnaFFpOX2"
   },
   "outputs": [],
   "source": []
  },
  {
   "cell_type": "markdown",
   "id": "_hc5eOTx-syt",
   "metadata": {
    "id": "_hc5eOTx-syt"
   },
   "source": [
    "**Loops**\n",
    "\n",
    "Add the missing code below to do the following:\n",
    "\n",
    "Create a loop that prints the elements in the list provided.<br>\n",
    "Create a loop that prints only the first two elements from the list.\n"
   ]
  },
  {
   "cell_type": "code",
   "execution_count": null,
   "id": "Fo9ff3Ja-7aH",
   "metadata": {
    "id": "Fo9ff3Ja-7aH"
   },
   "outputs": [],
   "source": [
    "list = [\"red\", \"yellow\", \"blue\", \"green\"]\n",
    "#------add new code below this line----------------------------\n"
   ]
  },
  {
   "cell_type": "markdown",
   "id": "tqVh8v39_MxU",
   "metadata": {
    "id": "tqVh8v39_MxU"
   },
   "source": [
    "**Conditionals**\n",
    "\n",
    "Add the missing code below to do the following:\n",
    "\n",
    "Prints \"I am happy\" if the variable weather is \"sunny\" and prints \"I am sad\" otherwise.\n"
   ]
  },
  {
   "cell_type": "code",
   "execution_count": null,
   "id": "-EQ9ehoeMdTc",
   "metadata": {
    "id": "-EQ9ehoeMdTc"
   },
   "outputs": [],
   "source": [
    "weather = \"sunny\"\n",
    "#------add new code below this line----------------------------\n",
    "\n"
   ]
  },
  {
   "cell_type": "markdown",
   "id": "A9O9uiGsMw8R",
   "metadata": {
    "id": "A9O9uiGsMw8R"
   },
   "source": [
    "**Conditionals with loops**\n",
    "\n",
    "Add the missing code to do the following:\n",
    "\n",
    "Checks if an item in the list is blue or red. If it is blue, pring \"it's a boy\" and if it is pink, print \"it's a girl\".\n",
    "\n"
   ]
  },
  {
   "cell_type": "code",
   "execution_count": null,
   "id": "6E1iEI4xNgWM",
   "metadata": {
    "id": "6E1iEI4xNgWM"
   },
   "outputs": [],
   "source": [
    "results = [\"blue\",\"pink\",\"blue\",\"pink\",\"blue\",\"blue\"]\n",
    "#------add new code below this line----------------------------\n"
   ]
  },
  {
   "cell_type": "markdown",
   "id": "wupT8l7epkvS",
   "metadata": {
    "id": "wupT8l7epkvS"
   },
   "source": [
    "**Quantum Circuits**\n",
    "\n",
    "Add the missing code below to do the following:\n",
    "\n",
    "Define a 1-qubit circuit names qc using the QuantumCircuit function().<br>\n",
    "Apply an X gate to qubit 0. <br>\n",
    "Draw your circuit using the qc.draw() function.<br>\n",
    "Run your circuit using the visualize_transition(qc, trace= True) function.\n",
    "\n"
   ]
  },
  {
   "cell_type": "code",
   "execution_count": null,
   "id": "n4L_t-DTpkFQ",
   "metadata": {
    "id": "n4L_t-DTpkFQ"
   },
   "outputs": [],
   "source": [
    "!pip install qiskit\n",
    "from qiskit import QuantumCircuit\n",
    "from qiskit.visualization import visualize_transition\n",
    "#------add new code below this line----------------------------\n",
    "\n"
   ]
  },
  {
   "cell_type": "markdown",
   "id": "MPlpyoAr0RRo",
   "metadata": {
    "id": "MPlpyoAr0RRo"
   },
   "source": [
    "**X gate and H gates**\n",
    "\n",
    "Add the missing code below to do the following:\n",
    "\n",
    "Create and draw a 1-qubit circuit that applies X then H two times: X, H, X, H"
   ]
  },
  {
   "cell_type": "code",
   "execution_count": null,
   "id": "0hVvO86V0Y3g",
   "metadata": {
    "id": "0hVvO86V0Y3g"
   },
   "outputs": [],
   "source": [
    "!pip install qiskit\n",
    "from qiskit import QuantumCircuit\n",
    "from qiskit.visualization import visualize_transition\n",
    "#------add new code below this line----------------------------\n",
    "\n"
   ]
  },
  {
   "cell_type": "markdown",
   "id": "MXqiNaef2ZDc",
   "metadata": {
    "id": "MXqiNaef2ZDc"
   },
   "source": [
    "**QASM simulator**\n",
    "\n",
    "Add the missing code to do the following: \n",
    "\n",
    "Simulate a gate using QASM where you apply 1 H gate and 1 X gate.\n"
   ]
  },
  {
   "cell_type": "code",
   "execution_count": null,
   "id": "k02hQfsL2k5F",
   "metadata": {
    "id": "k02hQfsL2k5F"
   },
   "outputs": [],
   "source": [
    "!pip install qiskit\n",
    "from qiskit import QuantumCircuit\n",
    "from qiskit import Aer, execute \n",
    "from qiskit.visualization import *\n",
    "\n",
    "#------add new code below this line----------------------------\n",
    "\n",
    "\n",
    "\n",
    "#------add new code above this line----------------------------\n",
    "\n",
    "backend = Aer.get_backend('qasm_simulator')\n",
    "job = execute(qc, backend = backend, shots = 1024)\n",
    "result = job.result()\n",
    "counts = result.get_counts()\n",
    "plot_histogram(counts)"
   ]
  },
  {
   "cell_type": "markdown",
   "id": "FjCUwbRt4l6_",
   "metadata": {
    "id": "FjCUwbRt4l6_"
   },
   "source": [
    "**Z Gates**\n",
    "\n",
    "Add code below to do the following:\n",
    "\n",
    "Create and draw a 1-quibit circuit with 1 H gate applied first and then 1 Z gate."
   ]
  },
  {
   "cell_type": "code",
   "execution_count": null,
   "id": "BIOXhf_n4w2R",
   "metadata": {
    "id": "BIOXhf_n4w2R"
   },
   "outputs": [],
   "source": [
    "!pip install qiskit\n",
    "from qiskit import QuantumCircuit\n",
    "from qiskit import Aer, execute \n",
    "from qiskit.visualization import *\n",
    "#------add new code below this line----------------------------\n"
   ]
  },
  {
   "cell_type": "markdown",
   "id": "oe-lDTL25Nuf",
   "metadata": {
    "id": "oe-lDTL25Nuf"
   },
   "source": [
    "**X, H and Z gates**\n",
    "\n",
    "Add the missing code to do the following:\n",
    "\n",
    "Create and draw a 1-qubit circuit with gates applied in the following order: X, H, Z."
   ]
  },
  {
   "cell_type": "code",
   "execution_count": null,
   "id": "9bZFTOZ_5ik8",
   "metadata": {
    "id": "9bZFTOZ_5ik8"
   },
   "outputs": [],
   "source": [
    "!pip install qiskit\n",
    "from qiskit import QuantumCircuit\n",
    "from qiskit import Aer, execute \n",
    "from qiskit.visualization import *\n",
    "#------add new code below this line----------------------------\n"
   ]
  },
  {
   "cell_type": "markdown",
   "id": "gno9SWKw5rjb",
   "metadata": {
    "id": "gno9SWKw5rjb"
   },
   "source": [
    "**2-qubit/2-classical bit circuits**\n",
    "\n",
    "Add the missing code to do the following: <br>\n",
    "\n",
    "Create and draw a 2-quibit/2-classical bit circuit with no gates applied."
   ]
  },
  {
   "cell_type": "code",
   "execution_count": null,
   "id": "RY8e0C8b5_DH",
   "metadata": {
    "id": "RY8e0C8b5_DH"
   },
   "outputs": [],
   "source": [
    "!pip install qiskit\n",
    "from qiskit import QuantumCircuit\n",
    "from qiskit import Aer, execute \n",
    "from qiskit.visualization import *\n",
    "#------add new code below this line----------------------------\n"
   ]
  },
  {
   "cell_type": "markdown",
   "id": "cFEqPNgQ6Fzo",
   "metadata": {
    "id": "cFEqPNgQ6Fzo"
   },
   "source": [
    "**2-qubit/2-classical bit circuits with gates**\n",
    "\n",
    "Add the missing code to do the following:\n",
    "\n",
    "Create and draw a 2-qubit/2-classical but circuit with gates applied in this order: X on qubit 0, H on qubit 1, H on qubit 0."
   ]
  },
  {
   "cell_type": "code",
   "execution_count": null,
   "id": "0yOR1MWu6Fl3",
   "metadata": {
    "id": "0yOR1MWu6Fl3"
   },
   "outputs": [],
   "source": [
    "!pip install qiskit\n",
    "from qiskit import QuantumCircuit\n",
    "from qiskit import Aer, execute \n",
    "from qiskit.visualization import *\n",
    "#------add new code below this line----------------------------\n"
   ]
  },
  {
   "cell_type": "markdown",
   "id": "Idx0MCEf7GqP",
   "metadata": {
    "id": "Idx0MCEf7GqP"
   },
   "source": [
    "**2-qubit/2-classical bit circuits with X and CX gates**\n",
    "\n",
    "Add the missing code to do the following:\n",
    "\n",
    "Create and draw a 2 quibit/2-classical bit circuit with an X gate applied on qubit 0 and CX gate applied with qubit 0 as the control and qubit 1 as the target. \n"
   ]
  },
  {
   "cell_type": "code",
   "execution_count": null,
   "id": "ofvhCb6s8E2f",
   "metadata": {
    "id": "ofvhCb6s8E2f"
   },
   "outputs": [],
   "source": [
    "!pip install qiskit\n",
    "from qiskit import QuantumCircuit\n",
    "from qiskit import Aer, execute \n",
    "from qiskit.visualization import *\n",
    "#------add new code below this line----------------------------\n"
   ]
  },
  {
   "cell_type": "markdown",
   "id": "5jV2zwI88ZNQ",
   "metadata": {
    "id": "5jV2zwI88ZNQ"
   },
   "source": [
    "**2-qubit/2-classical bit circuits with H, X, and CX gates**\n",
    "\n",
    "Add the missing code to do the following:\n",
    "\n",
    "Create and draw a 2 quibit/2-classical bit circuit with an H gate applied on qubit 0, a CX gate applied with qubit 0 as the control and qubit 1 as the target, and a X gate applied to qubit 0. "
   ]
  },
  {
   "cell_type": "code",
   "execution_count": null,
   "id": "Wi0bmxGK8oLu",
   "metadata": {
    "id": "Wi0bmxGK8oLu"
   },
   "outputs": [],
   "source": [
    "!pip install qiskit\n",
    "from qiskit import QuantumCircuit\n",
    "from qiskit import Aer, execute \n",
    "from qiskit.visualization import *\n",
    "#------add new code below this line----------------------------\n"
   ]
  },
  {
   "cell_type": "markdown",
   "id": "SCbVVR4l8ulp",
   "metadata": {
    "id": "SCbVVR4l8ulp"
   },
   "source": [
    "**2-qubit/2-classical bit circuits with 2 CX gates**\n",
    "\n",
    "Add the missing code to do the following:\n",
    "\n",
    "Create and draw a 2 quibit/2-classical bit circuit with an H gate applied on qubit 0, a CX gate applied with qubit 0 as the control and a CX applied with qubit 1 as the control and qubit 0 as the target. "
   ]
  },
  {
   "cell_type": "code",
   "execution_count": null,
   "id": "O4nuJPap9Bj9",
   "metadata": {
    "id": "O4nuJPap9Bj9"
   },
   "outputs": [],
   "source": [
    "!pip install qiskit\n",
    "from qiskit import QuantumCircuit\n",
    "from qiskit import Aer, execute \n",
    "from qiskit.visualization import *\n",
    "#------add new code below this line----------------------------\n"
   ]
  },
  {
   "cell_type": "markdown",
   "id": "3Oq-Fooc9HLt",
   "metadata": {
    "id": "3Oq-Fooc9HLt"
   },
   "source": [
    "**4-qubit/4-classical bit circuits with an X gate and a loop**\n",
    "\n",
    "Add the missing code to do the following:\n",
    "\n",
    "Create and draw a 4 quibit/4-classical bit circuit with an X gate applied to each qubit using a for loop."
   ]
  },
  {
   "cell_type": "code",
   "execution_count": null,
   "id": "lpXWuGpGHJiv",
   "metadata": {
    "id": "lpXWuGpGHJiv"
   },
   "outputs": [],
   "source": [
    "!pip install qiskit\n",
    "from qiskit import QuantumCircuit\n",
    "from qiskit import Aer, execute \n",
    "from qiskit.visualization import *\n",
    "#------add new code below this line----------------------------\n"
   ]
  },
  {
   "cell_type": "markdown",
   "id": "PFM8dtzAI7e9",
   "metadata": {
    "id": "PFM8dtzAI7e9"
   },
   "source": [
    "**4-qubit/4classical bit circuit with loop**\n",
    "\n",
    "Create and draw a 5-qubit/5-classical bit quantum circuit where you apply the gates listed below, using a loop for the CXs.\n",
    "\n",
    "H on qubit 0\n",
    "\n",
    "CX with qubit 0 as the control and qubit 1 as the target\n",
    "\n",
    "CX with qubit 1 as the control and qubit 2 as the target\n",
    "\n",
    "CX with qubit 2 as the control and qubit 3 as the target\n",
    "\n",
    "CX with qubit 3 as the control and qubit 4 as the target"
   ]
  },
  {
   "cell_type": "code",
   "execution_count": null,
   "id": "z09ytDvQLL59",
   "metadata": {
    "id": "z09ytDvQLL59"
   },
   "outputs": [],
   "source": [
    "!pip install qiskit\n",
    "from qiskit import QuantumCircuit\n",
    "from qiskit import Aer, execute \n",
    "from qiskit.visualization import *\n",
    "#------add new code below this line----------------------------\n"
   ]
  },
  {
   "cell_type": "markdown",
   "id": "iSH5oQiDOlxf",
   "metadata": {
    "id": "iSH5oQiDOlxf"
   },
   "source": [
    "**Circuits with conditionals**\n",
    "\n",
    "Add the missing code below to do the following: \n",
    "\n",
    "Create and draw a 1-qubit/1-classical bit quantum circuit where we apply an X gate if the variable, choice, is \"not\" and an H gate otherwise. "
   ]
  },
  {
   "cell_type": "code",
   "execution_count": null,
   "id": "HaPtmZdHOuMm",
   "metadata": {
    "id": "HaPtmZdHOuMm"
   },
   "outputs": [],
   "source": [
    "!pip install qiskit\n",
    "from qiskit import QuantumCircuit\n",
    "from qiskit import Aer, execute \n",
    "from qiskit.visualization import *\n",
    "\n",
    "choice = \"not\"\n",
    "#------add new code below this line----------------------------\n"
   ]
  },
  {
   "cell_type": "markdown",
   "id": "ha1helabPAyO",
   "metadata": {
    "id": "ha1helabPAyO"
   },
   "source": [
    "**Circuits with gates and conditionals\n",
    "\n",
    "Add the missing code below to do the following:\n",
    "\n",
    "Create and draw a 2-qubit/0-classical bit quantum circuit where we apply an X gate on qubit 0, an H gate on qubit 1 and a CX gate with qubit 0 as the control and qubit 1 as the target ONLY IF the variable interact is FALSE."
   ]
  },
  {
   "cell_type": "code",
   "execution_count": null,
   "id": "TX_a8u6ePYxC",
   "metadata": {
    "id": "TX_a8u6ePYxC"
   },
   "outputs": [],
   "source": [
    "!pip install qiskit\n",
    "from qiskit import QuantumCircuit\n",
    "from qiskit import Aer, execute \n",
    "from qiskit.visualization import *\n",
    "\n",
    "interact = False\n",
    "#------add new code below this line----------------------------\n"
   ]
  },
  {
   "cell_type": "markdown",
   "id": "Rye236iZPpow",
   "metadata": {
    "id": "Rye236iZPpow"
   },
   "source": [
    "**Circuits with conditionals, loops and gates**\n",
    "\n",
    "Create and draw a 4-qubit/0-classical bit quantum circuit where we apply gates as follows:\n",
    "\n",
    "Using a loop, apply H to all qubits if superposition is True and X otherwise.\n",
    "\n",
    "Then, if the variable what_next is the string \"Z\", apply a Z gate to every qubit using a loop.\n",
    "\n",
    "\n",
    "\n"
   ]
  },
  {
   "cell_type": "code",
   "execution_count": null,
   "id": "AOw27tAHPpaA",
   "metadata": {
    "id": "AOw27tAHPpaA"
   },
   "outputs": [],
   "source": [
    "!pip install qiskit\n",
    "from qiskit import QuantumCircuit\n",
    "from qiskit import Aer, execute \n",
    "from qiskit.visualization import *\n",
    "\n",
    "superposition = True\n",
    "what_next = \"Z\"\n",
    "\n",
    "#------add new code below this line----------------------------\n"
   ]
  },
  {
   "cell_type": "markdown",
   "id": "QfOSrDfhQFOU",
   "metadata": {
    "id": "QfOSrDfhQFOU"
   },
   "source": [
    "**Print random bits**\n",
    "\n",
    "Add the missing code below to do the following:\n",
    "\n",
    "Print 5 random bits using a loop."
   ]
  },
  {
   "cell_type": "code",
   "execution_count": null,
   "id": "MCfwv9EpQPN9",
   "metadata": {
    "id": "MCfwv9EpQPN9"
   },
   "outputs": [],
   "source": [
    "from random import getrandbits\n",
    "\n",
    "#------add new code below this line----------------------------\n",
    "\n"
   ]
  },
  {
   "cell_type": "markdown",
   "id": "0TODIcUsQUMf",
   "metadata": {
    "id": "0TODIcUsQUMf"
   },
   "source": [
    "**More random bits**\n",
    "\n",
    "Add the missing code below to do the follwowing:\n",
    "\n",
    "Add a random bit to each element of the provided list. <br>\n",
    "Print the list."
   ]
  },
  {
   "cell_type": "code",
   "execution_count": null,
   "id": "gR0pTxQKQUcG",
   "metadata": {
    "id": "gR0pTxQKQUcG"
   },
   "outputs": [],
   "source": [
    "from random import getrandbits\n",
    "values = [-1, 0, 1, 4, 2]\n",
    "\n",
    "#------add new code below this line----------------------------\n",
    "\n"
   ]
  },
  {
   "cell_type": "markdown",
   "id": "stDY1b9cRCql",
   "metadata": {
    "id": "stDY1b9cRCql"
   },
   "source": [
    "**Circuits with loops**\n",
    "\n",
    "Add the missing code to do the following:\n",
    "\n",
    "Create a list of 5 single qubit/single classical bit circuits using a for loop where we apply an X gate to each qubit.<br>\n",
    "Draw the 0th circuit."
   ]
  },
  {
   "cell_type": "code",
   "execution_count": null,
   "id": "gR3DuijuRP_5",
   "metadata": {
    "id": "gR3DuijuRP_5"
   },
   "outputs": [],
   "source": [
    "!pip install qiskit\n",
    "from qiskit import QuantumCircuit, Aer, transpile, assemble, execute\n",
    "from qiskit.visualization import plot_histogram\n",
    "from numpy.random import randint # generate random numbers\n",
    "import numpy as np\n",
    "#------add new code below this line----------------------------\n",
    "\n"
   ]
  },
  {
   "cell_type": "markdown",
   "id": "urzQMLF1TjA3",
   "metadata": {
    "id": "urzQMLF1TjA3"
   },
   "source": [
    "**Using loops and conditionals**\n",
    "\n",
    "Add the missing code to do the following:\n",
    "\n",
    "Create a list called encoded_qubits of circuits with one qubit and one classical bit. Then use the following rules to determine what to do to each circuit.\n",
    "\n",
    "If bits[i] == 0, do nothing.\n",
    "\n",
    "If bits[i] == 1, apply an X gate.\n",
    "\n",
    "If choices[i] == 'NS', do nothing ('NS' = no superposition).\n",
    "\n",
    "If choices[i] == 'S', put the qubit in a superposition ('S' = superpostion).\n",
    "\n",
    "Then draw the 0th circuit and the 2nd circuit in the list to  make sure you are aplying the right sequence of gates.\n"
   ]
  },
  {
   "cell_type": "code",
   "execution_count": null,
   "id": "qd9eiC5STikt",
   "metadata": {
    "id": "qd9eiC5STikt"
   },
   "outputs": [],
   "source": [
    "!pip install qiskit\n",
    "from qiskit import QuantumCircuit, Aer, transpile, assemble, execute\n",
    "from qiskit.visualization import plot_histogram\n",
    "from numpy.random import randint # generate random numbers\n",
    "import numpy as np\n",
    "\n",
    "bits = [0, 1, 1, 0, 0]\n",
    "choices = ['NS', 'NS', 'S', 'NS', 'S']\n",
    "\n",
    "#------add new code below this line----------------------------\n",
    "\n"
   ]
  },
  {
   "cell_type": "markdown",
   "id": "hQJELyD6aeJ2",
   "metadata": {
    "id": "hQJELyD6aeJ2"
   },
   "source": [
    "---\n",
    "# End of Lab\n",
    "---\n",
    "© 2022 The Coding School, All rights reserved"
   ]
  }
 ],
 "metadata": {
  "colab": {
   "collapsed_sections": [
    "k0Lsovb5VOKP",
    "sVwVviQORgWa",
    "EaZZHsk1gp1P",
    "onf8WWxqLbZc"
   ],
   "provenance": []
  },
  "kernelspec": {
   "display_name": "Python 3 (ipykernel)",
   "language": "python",
   "name": "python3"
  },
  "language_info": {
   "codemirror_mode": {
    "name": "ipython",
    "version": 3
   },
   "file_extension": ".py",
   "mimetype": "text/x-python",
   "name": "python",
   "nbconvert_exporter": "python",
   "pygments_lexer": "ipython3",
   "version": "3.8.13"
  },
  "widgets": {
   "application/vnd.jupyter.widget-state+json": {
    "state": {
     "09a33abb487845aa96a4cc733521038a": {
      "model_module": "@jupyter-widgets/controls",
      "model_module_version": "1.5.0",
      "model_name": "ButtonStyleModel",
      "state": {}
     },
     "1368f48688244c18b85c9002e2c42856": {
      "model_module": "@jupyter-widgets/controls",
      "model_module_version": "1.5.0",
      "model_name": "VBoxModel",
      "state": {
       "children": [
        "IPY_MODEL_d3e401770ed64f9fb130939b6b061629",
        "IPY_MODEL_98b43c805470486eaf410653cf4c1988",
        "IPY_MODEL_fd53559f0c8d41d3a9d0d6be267e1708"
       ],
       "layout": "IPY_MODEL_2b9ca33a745543f59fb88fabddd129e4"
      }
     },
     "157d4fc62dd24defa4779abef01f4917": {
      "model_module": "@jupyter-widgets/controls",
      "model_module_version": "1.5.0",
      "model_name": "ButtonModel",
      "state": {
       "description": "Play",
       "layout": "IPY_MODEL_682de144f19b4513909b5b9d4d9feff3",
       "style": "IPY_MODEL_8fb0ddd4a06e40f5893a700a6350ea24"
      }
     },
     "17e38945d57a4c2294c4d4cf841f48a2": {
      "model_module": "@jupyter-widgets/base",
      "model_module_version": "1.2.0",
      "model_name": "LayoutModel",
      "state": {}
     },
     "251f7042dca54da7895847143d10148b": {
      "model_module": "@jupyter-widgets/base",
      "model_module_version": "1.2.0",
      "model_name": "LayoutModel",
      "state": {
       "width": "145px"
      }
     },
     "28cc8751d3b1488e87e5a09a08a617ae": {
      "model_module": "@jupyter-widgets/controls",
      "model_module_version": "1.5.0",
      "model_name": "DescriptionStyleModel",
      "state": {
       "description_width": ""
      }
     },
     "296162d5812547e0b3ae19ae006341ae": {
      "model_module": "@jupyter-widgets/base",
      "model_module_version": "1.2.0",
      "model_name": "LayoutModel",
      "state": {}
     },
     "29e9d57a917a4f9c819f5ac5f7521b24": {
      "model_module": "@jupyter-widgets/controls",
      "model_module_version": "1.5.0",
      "model_name": "HBoxModel",
      "state": {
       "children": [
        "IPY_MODEL_8956958273594997b851b39801aa956c",
        "IPY_MODEL_92500c6465d94000925c51edf5f3947a",
        "IPY_MODEL_d422b0e00cbb476a866f1e3007fde38a",
        "IPY_MODEL_e4647e219a034e3fb344d08d3633b1fc",
        "IPY_MODEL_e98a1f1f87ad4454b9fe83a377dbf704"
       ],
       "layout": "IPY_MODEL_8c4bf3592c1e43f4ae99d0c918a435b6"
      }
     },
     "2b9ca33a745543f59fb88fabddd129e4": {
      "model_module": "@jupyter-widgets/base",
      "model_module_version": "1.2.0",
      "model_name": "LayoutModel",
      "state": {}
     },
     "3075a421683e4eed8ccb7b6ccf13e727": {
      "model_module": "@jupyter-widgets/controls",
      "model_module_version": "1.5.0",
      "model_name": "DescriptionStyleModel",
      "state": {
       "description_width": ""
      }
     },
     "3457aaec6bf5433e8c1e2790a033ae34": {
      "model_module": "@jupyter-widgets/controls",
      "model_module_version": "1.5.0",
      "model_name": "DescriptionStyleModel",
      "state": {
       "description_width": ""
      }
     },
     "456cad69e2fd4ce48db7de03aaa9fde9": {
      "model_module": "@jupyter-widgets/controls",
      "model_module_version": "1.5.0",
      "model_name": "VBoxModel",
      "state": {
       "children": [
        "IPY_MODEL_b6d17d1fac7e47f5bd7acacae8624ac6",
        "IPY_MODEL_61a0fb9bd768419f97f2b1657d1e9455",
        "IPY_MODEL_fc8071f1acfc4e6389b376be29646604"
       ],
       "layout": "IPY_MODEL_c0c25dae1f4a4f599f37662737bbbe8b"
      }
     },
     "463ffcf9e38940eea6b3ed6ae758a91c": {
      "model_module": "@jupyter-widgets/base",
      "model_module_version": "1.2.0",
      "model_name": "LayoutModel",
      "state": {
       "grid_area": "right",
       "padding": "0px 0px 0px 0px",
       "width": "70px"
      }
     },
     "512fd70d8e284d2ca4e6788092488dc5": {
      "model_module": "@jupyter-widgets/controls",
      "model_module_version": "1.5.0",
      "model_name": "DescriptionStyleModel",
      "state": {
       "description_width": ""
      }
     },
     "54d424a504464f19823925daddec80ca": {
      "model_module": "@jupyter-widgets/base",
      "model_module_version": "1.2.0",
      "model_name": "LayoutModel",
      "state": {
       "margin": "0px 0px 10px 0px"
      }
     },
     "59dbb986601c4ae4b653a59be559a8a6": {
      "model_module": "@jupyter-widgets/controls",
      "model_module_version": "1.5.0",
      "model_name": "DropdownModel",
      "state": {
       "_options_labels": [
        "Do not flip the coin",
        "Flip the coin"
       ],
       "description": "Choice: ",
       "index": 1,
       "layout": "IPY_MODEL_fab4257a11bc4ca8a9d8ee9fa785da6f",
       "style": "IPY_MODEL_28cc8751d3b1488e87e5a09a08a617ae"
      }
     },
     "613360d9404d467dbf8662d05e9d3531": {
      "model_module": "@jupyter-widgets/controls",
      "model_module_version": "1.5.0",
      "model_name": "DescriptionStyleModel",
      "state": {
       "description_width": ""
      }
     },
     "61a0fb9bd768419f97f2b1657d1e9455": {
      "model_module": "@jupyter-widgets/controls",
      "model_module_version": "1.5.0",
      "model_name": "ButtonModel",
      "state": {
       "description": "Play",
       "layout": "IPY_MODEL_f9faea333e474ed986f4643818c7f458",
       "style": "IPY_MODEL_a15b42383bb7411688a7b88ddfced8f5"
      }
     },
     "682de144f19b4513909b5b9d4d9feff3": {
      "model_module": "@jupyter-widgets/base",
      "model_module_version": "1.2.0",
      "model_name": "LayoutModel",
      "state": {}
     },
     "71d1ee787df9494abf62170fdeb9ae8f": {
      "model_module": "@jupyter-widgets/controls",
      "model_module_version": "1.5.0",
      "model_name": "ButtonStyleModel",
      "state": {}
     },
     "75ab8dfc5eb24fb186b1e41cd6c1b44a": {
      "model_module": "@jupyter-widgets/base",
      "model_module_version": "1.2.0",
      "model_name": "LayoutModel",
      "state": {}
     },
     "795e72d10d584e48a58181957d220c70": {
      "model_module": "@jupyter-widgets/controls",
      "model_module_version": "1.5.0",
      "model_name": "DescriptionStyleModel",
      "state": {
       "description_width": ""
      }
     },
     "8956958273594997b851b39801aa956c": {
      "model_module": "@jupyter-widgets/controls",
      "model_module_version": "1.5.0",
      "model_name": "HTMLModel",
      "state": {
       "layout": "IPY_MODEL_eaed998b2a5443a5aef46b79b146518a",
       "style": "IPY_MODEL_795e72d10d584e48a58181957d220c70",
       "value": "<h5>Job ID</h5>"
      }
     },
     "8ac91936a3ac48c589236c0bd71fa3b6": {
      "model_module": "@jupyter-widgets/controls",
      "model_module_version": "1.5.0",
      "model_name": "ButtonModel",
      "state": {
       "button_style": "primary",
       "description": "Clear",
       "layout": "IPY_MODEL_463ffcf9e38940eea6b3ed6ae758a91c",
       "style": "IPY_MODEL_09a33abb487845aa96a4cc733521038a"
      }
     },
     "8c4bf3592c1e43f4ae99d0c918a435b6": {
      "model_module": "@jupyter-widgets/base",
      "model_module_version": "1.2.0",
      "model_name": "LayoutModel",
      "state": {
       "margin": "0px 0px 0px 37px",
       "width": "600px"
      }
     },
     "8fb0ddd4a06e40f5893a700a6350ea24": {
      "model_module": "@jupyter-widgets/controls",
      "model_module_version": "1.5.0",
      "model_name": "ButtonStyleModel",
      "state": {}
     },
     "92500c6465d94000925c51edf5f3947a": {
      "model_module": "@jupyter-widgets/controls",
      "model_module_version": "1.5.0",
      "model_name": "HTMLModel",
      "state": {
       "layout": "IPY_MODEL_251f7042dca54da7895847143d10148b",
       "style": "IPY_MODEL_3075a421683e4eed8ccb7b6ccf13e727",
       "value": "<h5>Backend</h5>"
      }
     },
     "9677fadf52f343fab4306cc32e4177a5": {
      "model_module": "@jupyter-widgets/base",
      "model_module_version": "1.2.0",
      "model_name": "LayoutModel",
      "state": {}
     },
     "96cf784c84f642f0bae0655e4c1c101b": {
      "model_module": "@jupyter-widgets/base",
      "model_module_version": "1.2.0",
      "model_name": "LayoutModel",
      "state": {
       "width": "95px"
      }
     },
     "98b43c805470486eaf410653cf4c1988": {
      "model_module": "@jupyter-widgets/controls",
      "model_module_version": "1.5.0",
      "model_name": "ButtonModel",
      "state": {
       "description": "Play",
       "layout": "IPY_MODEL_f1d452d8721548b8be8bffc0a76919c9",
       "style": "IPY_MODEL_71d1ee787df9494abf62170fdeb9ae8f"
      }
     },
     "a15b42383bb7411688a7b88ddfced8f5": {
      "model_module": "@jupyter-widgets/controls",
      "model_module_version": "1.5.0",
      "model_name": "ButtonStyleModel",
      "state": {}
     },
     "b6d17d1fac7e47f5bd7acacae8624ac6": {
      "model_module": "@jupyter-widgets/controls",
      "model_module_version": "1.5.0",
      "model_name": "DropdownModel",
      "state": {
       "_options_labels": [
        "Do not flip the coin",
        "Flip the coin"
       ],
       "description": "Choice: ",
       "index": 0,
       "layout": "IPY_MODEL_9677fadf52f343fab4306cc32e4177a5",
       "style": "IPY_MODEL_613360d9404d467dbf8662d05e9d3531"
      }
     },
     "ba0def0b9a63478b864cf5f6d0ba7e69": {
      "model_module": "@jupyter-widgets/controls",
      "model_module_version": "1.5.0",
      "model_name": "GridBoxModel",
      "state": {
       "children": [
        "IPY_MODEL_8ac91936a3ac48c589236c0bd71fa3b6"
       ],
       "layout": "IPY_MODEL_eb34e2e15d854c368efb855e7126ad7a"
      }
     },
     "bc0b3d28a8f2431c90dea785d38166c2": {
      "model_module": "@jupyter-widgets/output",
      "model_module_version": "1.0.0",
      "model_name": "OutputModel",
      "state": {
       "layout": "IPY_MODEL_f765849cbe3549959ff9bd0b14450a21",
       "outputs": [
        {
         "name": "stdout",
         "output_type": "stream",
         "text": "The Computer has played its turn\nYou Lose to the Computer. TheComputer Wins. Try again!\n\n\n\n\nThe Computer has played its turn\nYou Lose to the Computer. TheComputer Wins. Try again!\n\n\n\n\nThe Computer has played its turn\nYou Lose to the Computer. TheComputer Wins. Try again!\n\n\n\n\nThe Computer has played its turn\nYou Lose to the Computer. TheComputer Wins. Try again!\n\n\n\n\nYou chose to flip\nThe Computer has played its turn\nYou Lose to the Computer. TheComputer Wins. Try again!\n\n\n\n\nYou chose to flip\nThe Computer has played its turn\nYou Lose to the Computer. TheComputer Wins. Try again!\n\n\n\n\nYou chose to flip\nThe Computer has played its turn\nYou Lose to the Computer. TheComputer Wins. Try again!\n\n\n\n\nYou chose to flip\nThe Computer has played its turn\nYou Lose to the Computer. TheComputer Wins. Try again!\n\n\n\n\n"
        }
       ]
      }
     },
     "bc96d25a87714866ba0daf320ab1e4bd": {
      "model_module": "@jupyter-widgets/controls",
      "model_module_version": "1.5.0",
      "model_name": "DescriptionStyleModel",
      "state": {
       "description_width": ""
      }
     },
     "c0c25dae1f4a4f599f37662737bbbe8b": {
      "model_module": "@jupyter-widgets/base",
      "model_module_version": "1.2.0",
      "model_name": "LayoutModel",
      "state": {}
     },
     "c4aeda301cf841618b253a6f89225f84": {
      "model_module": "@jupyter-widgets/base",
      "model_module_version": "1.2.0",
      "model_name": "LayoutModel",
      "state": {}
     },
     "d3e401770ed64f9fb130939b6b061629": {
      "model_module": "@jupyter-widgets/controls",
      "model_module_version": "1.5.0",
      "model_name": "DropdownModel",
      "state": {
       "_options_labels": [
        "Do not flip the coin",
        "Flip the coin"
       ],
       "description": "Choice: ",
       "index": 0,
       "layout": "IPY_MODEL_75ab8dfc5eb24fb186b1e41cd6c1b44a",
       "style": "IPY_MODEL_bc96d25a87714866ba0daf320ab1e4bd"
      }
     },
     "d422b0e00cbb476a866f1e3007fde38a": {
      "model_module": "@jupyter-widgets/controls",
      "model_module_version": "1.5.0",
      "model_name": "HTMLModel",
      "state": {
       "layout": "IPY_MODEL_96cf784c84f642f0bae0655e4c1c101b",
       "style": "IPY_MODEL_3457aaec6bf5433e8c1e2790a033ae34",
       "value": "<h5>Status</h5>"
      }
     },
     "d775434627a741e2b03d51d8f4f39c79": {
      "model_module": "@jupyter-widgets/base",
      "model_module_version": "1.2.0",
      "model_name": "LayoutModel",
      "state": {
       "width": "70px"
      }
     },
     "d79ef171590a49978b38766d3d51093b": {
      "model_module": "@jupyter-widgets/controls",
      "model_module_version": "1.5.0",
      "model_name": "DescriptionStyleModel",
      "state": {
       "description_width": ""
      }
     },
     "da78072073b44b83ba37f5a341e7250e": {
      "model_module": "@jupyter-widgets/controls",
      "model_module_version": "1.5.0",
      "model_name": "DescriptionStyleModel",
      "state": {
       "description_width": ""
      }
     },
     "e1dd91a3c36f487795bca44048f312f8": {
      "model_module": "@jupyter-widgets/controls",
      "model_module_version": "1.5.0",
      "model_name": "HTMLModel",
      "state": {
       "layout": "IPY_MODEL_54d424a504464f19823925daddec80ca",
       "style": "IPY_MODEL_d79ef171590a49978b38766d3d51093b",
       "value": "<p style='font-family: IBM Plex Sans, Arial, Helvetica, sans-serif; font-size: 20px; font-weight: medium;'>Circuit Properties</p>"
      }
     },
     "e4647e219a034e3fb344d08d3633b1fc": {
      "model_module": "@jupyter-widgets/controls",
      "model_module_version": "1.5.0",
      "model_name": "HTMLModel",
      "state": {
       "layout": "IPY_MODEL_d775434627a741e2b03d51d8f4f39c79",
       "style": "IPY_MODEL_512fd70d8e284d2ca4e6788092488dc5",
       "value": "<h5>Queue</h5>"
      }
     },
     "e98a1f1f87ad4454b9fe83a377dbf704": {
      "model_module": "@jupyter-widgets/controls",
      "model_module_version": "1.5.0",
      "model_name": "HTMLModel",
      "state": {
       "layout": "IPY_MODEL_17e38945d57a4c2294c4d4cf841f48a2",
       "style": "IPY_MODEL_da78072073b44b83ba37f5a341e7250e",
       "value": "<h5>Message</h5>"
      }
     },
     "eaed998b2a5443a5aef46b79b146518a": {
      "model_module": "@jupyter-widgets/base",
      "model_module_version": "1.2.0",
      "model_name": "LayoutModel",
      "state": {
       "width": "190px"
      }
     },
     "eb34e2e15d854c368efb855e7126ad7a": {
      "model_module": "@jupyter-widgets/base",
      "model_module_version": "1.2.0",
      "model_name": "LayoutModel",
      "state": {
       "grid_template_areas": "\n                                       \". . . . right \"\n                                        ",
       "grid_template_columns": "20% 20% 20% 20% 20%",
       "width": "100%"
      }
     },
     "f1d452d8721548b8be8bffc0a76919c9": {
      "model_module": "@jupyter-widgets/base",
      "model_module_version": "1.2.0",
      "model_name": "LayoutModel",
      "state": {}
     },
     "f765849cbe3549959ff9bd0b14450a21": {
      "model_module": "@jupyter-widgets/base",
      "model_module_version": "1.2.0",
      "model_name": "LayoutModel",
      "state": {}
     },
     "f9faea333e474ed986f4643818c7f458": {
      "model_module": "@jupyter-widgets/base",
      "model_module_version": "1.2.0",
      "model_name": "LayoutModel",
      "state": {}
     },
     "fab4257a11bc4ca8a9d8ee9fa785da6f": {
      "model_module": "@jupyter-widgets/base",
      "model_module_version": "1.2.0",
      "model_name": "LayoutModel",
      "state": {}
     },
     "fb4de34633af472787956d7173811bca": {
      "model_module": "@jupyter-widgets/base",
      "model_module_version": "1.2.0",
      "model_name": "LayoutModel",
      "state": {}
     },
     "fb8f31ee66634a2c9f9b20a07f5a2dac": {
      "model_module": "@jupyter-widgets/controls",
      "model_module_version": "1.5.0",
      "model_name": "VBoxModel",
      "state": {
       "children": [
        "IPY_MODEL_59dbb986601c4ae4b653a59be559a8a6",
        "IPY_MODEL_157d4fc62dd24defa4779abef01f4917",
        "IPY_MODEL_bc0b3d28a8f2431c90dea785d38166c2"
       ],
       "layout": "IPY_MODEL_c4aeda301cf841618b253a6f89225f84"
      }
     },
     "fc8071f1acfc4e6389b376be29646604": {
      "model_module": "@jupyter-widgets/output",
      "model_module_version": "1.0.0",
      "model_name": "OutputModel",
      "state": {
       "layout": "IPY_MODEL_296162d5812547e0b3ae19ae006341ae",
       "outputs": [
        {
         "name": "stdout",
         "output_type": "stream",
         "text": "The Computer has played its turn\nYou Lose to the Computer. TheComputer Wins. Try again!\n\n\n\n\nYou chose to flip\nThe Computer has played its turn\nYou Win against the Computer. Great job!\n\n\n\n\nThe Computer has played its turn\nYou Lose to the Computer. TheComputer Wins. Try again!\n\n\n\n\nYou chose to flip\nThe Computer has played its turn\nYou Win against the Computer. Great job!\n\n\n\n\nThe Computer has played its turn\nYou Lose to the Computer. TheComputer Wins. Try again!\n\n\n\n\n"
        }
       ]
      }
     },
     "fd53559f0c8d41d3a9d0d6be267e1708": {
      "model_module": "@jupyter-widgets/output",
      "model_module_version": "1.0.0",
      "model_name": "OutputModel",
      "state": {
       "layout": "IPY_MODEL_fb4de34633af472787956d7173811bca"
      }
     }
    },
    "version_major": 2,
    "version_minor": 0
   }
  }
 },
 "nbformat": 4,
 "nbformat_minor": 5
}

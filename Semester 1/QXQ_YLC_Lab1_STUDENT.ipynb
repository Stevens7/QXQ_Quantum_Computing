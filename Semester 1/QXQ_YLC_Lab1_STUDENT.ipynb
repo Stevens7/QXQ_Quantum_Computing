{
 "cells": [
  {
   "cell_type": "markdown",
   "id": "35fd900c-fe13-4bd5-a24d-582024e7000c",
   "metadata": {
    "id": "35fd900c-fe13-4bd5-a24d-582024e7000c",
    "tags": []
   },
   "source": [
    "<center>\n",
    "\n",
    "# Qubit by Qubit\n",
    "## Introduction to Quantum Computing\n",
    "### Week 1 - Review, Comparisons, Lists, and Functions\n",
    "### Lab notebook\n",
    "\n",
    "</center>\n",
    "\n",
    "<br>"
   ]
  },
  {
   "cell_type": "markdown",
   "id": "olcg9cvJe-fn",
   "metadata": {
    "id": "olcg9cvJe-fn"
   },
   "source": [
    "## **Review Problems**"
   ]
  },
  {
   "cell_type": "markdown",
   "id": "D2pFPu1vfDDY",
   "metadata": {
    "id": "D2pFPu1vfDDY"
   },
   "source": [
    "###Exercise #1\n",
    "---\n",
    "Print the statement: \"Quantum computers use qubits.\""
   ]
  },
  {
   "cell_type": "code",
   "execution_count": 1,
   "id": "fMIxBpD8fc7d",
   "metadata": {
    "id": "fMIxBpD8fc7d"
   },
   "outputs": [
    {
     "name": "stdout",
     "output_type": "stream",
     "text": [
      "Quantum Computers use qubits.\n"
     ]
    }
   ],
   "source": [
    "  print(\"Quantum Computers use qubits.\")"
   ]
  },
  {
   "cell_type": "markdown",
   "id": "6Xsq0EKnfdMM",
   "metadata": {
    "id": "6Xsq0EKnfdMM"
   },
   "source": [
    "###Exercise #2\n",
    "---\n",
    "Create a variable called `num_cats` and assign it to 3."
   ]
  },
  {
   "cell_type": "code",
   "execution_count": 2,
   "id": "V-2RI51Gfd5j",
   "metadata": {
    "id": "V-2RI51Gfd5j"
   },
   "outputs": [],
   "source": [
    "num_cats = 3"
   ]
  },
  {
   "cell_type": "markdown",
   "id": "HmtaVACDfeVn",
   "metadata": {
    "id": "HmtaVACDfeVn"
   },
   "source": [
    "###Exercise #3\n",
    "---\n",
    "Create a program that prints \"Welcome, Simone\"."
   ]
  },
  {
   "cell_type": "code",
   "execution_count": 4,
   "id": "283UZEhwfert",
   "metadata": {
    "id": "283UZEhwfert"
   },
   "outputs": [],
   "source": [
    "# add code here\n",
    "name = \"Simone\""
   ]
  },
  {
   "cell_type": "code",
   "execution_count": 6,
   "id": "4332f22b-47b5-4ffc-a2ba-116f1f089423",
   "metadata": {
    "id": "2077G1DQhb8W"
   },
   "outputs": [
    {
     "name": "stdout",
     "output_type": "stream",
     "text": [
      "Welcome, Simone\n"
     ]
    }
   ],
   "source": [
    "print(\"Welcome, \" + name)"
   ]
  },
  {
   "cell_type": "markdown",
   "id": "3wTV_4A1fe8I",
   "metadata": {
    "id": "3wTV_4A1fe8I"
   },
   "source": [
    "###Exercise #4\n",
    "---\n",
    "You have 3 bananas and 5 apples. How much fruit do you have in total? Create a computer program to calculate this."
   ]
  },
  {
   "cell_type": "code",
   "execution_count": 8,
   "id": "LY5STsPghhC7",
   "metadata": {
    "id": "LY5STsPghhC7"
   },
   "outputs": [],
   "source": [
    "num_banana = 3\n",
    "num_apple = 4\n",
    "# add code here"
   ]
  },
  {
   "cell_type": "code",
   "execution_count": 13,
   "id": "-pNbJQFiflKp",
   "metadata": {
    "id": "-pNbJQFiflKp"
   },
   "outputs": [
    {
     "name": "stdout",
     "output_type": "stream",
     "text": [
      "The total number of frutis: 7\n"
     ]
    }
   ],
   "source": [
    "num_fruit = num_banana + num_apple\n",
    "print(\"The total number of frutis:\", num_fruit)"
   ]
  },
  {
   "cell_type": "markdown",
   "id": "bb814303-b86e-45d1-b0cf-09d4c484250d",
   "metadata": {
    "id": "bb814303-b86e-45d1-b0cf-09d4c484250d"
   },
   "source": [
    "---\n",
    "### Back to Lecture\n",
    "\n",
    "---"
   ]
  },
  {
   "cell_type": "markdown",
   "id": "zh89PFP_kJP2",
   "metadata": {
    "id": "zh89PFP_kJP2"
   },
   "source": [
    "### Practice Together #1\n",
    "---\n",
    "\n",
    "Will the code below produce a True or False output?"
   ]
  },
  {
   "cell_type": "code",
   "execution_count": 14,
   "id": "R0TVenwKkTtl",
   "metadata": {
    "id": "R0TVenwKkTtl"
   },
   "outputs": [
    {
     "data": {
      "text/plain": [
       "False"
      ]
     },
     "execution_count": 14,
     "metadata": {},
     "output_type": "execute_result"
    }
   ],
   "source": [
    "x = 10\n",
    "y = 15\n",
    "x > y"
   ]
  },
  {
   "cell_type": "code",
   "execution_count": null,
   "id": "ASZMWDPgkUnh",
   "metadata": {
    "id": "ASZMWDPgkUnh"
   },
   "outputs": [],
   "source": []
  },
  {
   "cell_type": "markdown",
   "id": "Tgjq0a6qlUhb",
   "metadata": {
    "id": "Tgjq0a6qlUhb"
   },
   "source": [
    "### Exercise #1.1\n",
    "---\n",
    "Is the problem below True or False?"
   ]
  },
  {
   "cell_type": "code",
   "execution_count": 15,
   "id": "Kdsow7hxlYNN",
   "metadata": {
    "id": "Kdsow7hxlYNN"
   },
   "outputs": [
    {
     "data": {
      "text/plain": [
       "False"
      ]
     },
     "execution_count": 15,
     "metadata": {},
     "output_type": "execute_result"
    }
   ],
   "source": [
    "apples = 3\n",
    "oranges = 7\n",
    "apples == oranges"
   ]
  },
  {
   "cell_type": "code",
   "execution_count": null,
   "id": "2WV7ZPqhlZAL",
   "metadata": {
    "id": "2WV7ZPqhlZAL"
   },
   "outputs": [],
   "source": [
    "  "
   ]
  },
  {
   "cell_type": "markdown",
   "id": "zaNQZMpFlezt",
   "metadata": {
    "id": "zaNQZMpFlezt"
   },
   "source": [
    "### Exercise #1.2\n",
    "---\n",
    "Is the problem below True or False?"
   ]
  },
  {
   "cell_type": "code",
   "execution_count": 16,
   "id": "49ra-lNhljHK",
   "metadata": {
    "id": "49ra-lNhljHK"
   },
   "outputs": [
    {
     "data": {
      "text/plain": [
       "True"
      ]
     },
     "execution_count": 16,
     "metadata": {},
     "output_type": "execute_result"
    }
   ],
   "source": [
    "num_cookies = 100\n",
    "num_cakes = 100\n",
    "num_cookies == num_cakes"
   ]
  },
  {
   "cell_type": "code",
   "execution_count": null,
   "id": "t7v5FcTyl-Dm",
   "metadata": {
    "id": "t7v5FcTyl-Dm"
   },
   "outputs": [],
   "source": []
  },
  {
   "cell_type": "markdown",
   "id": "66cbed8c-8b19-4a08-bb45-5642d31fc9d2",
   "metadata": {
    "id": "66cbed8c-8b19-4a08-bb45-5642d31fc9d2"
   },
   "source": [
    "---\n",
    "### Back to Lecture\n",
    "\n",
    "---"
   ]
  },
  {
   "cell_type": "markdown",
   "id": "-vIBFLiLmZwS",
   "metadata": {
    "id": "-vIBFLiLmZwS"
   },
   "source": [
    "### Practice Together #2\n",
    "---\n",
    "Create a list of the following three movies and call it `oscar_movies`: Moonlight, Black Panther, Coda.\n"
   ]
  },
  {
   "cell_type": "code",
   "execution_count": 18,
   "id": "P-pey7JNm1dL",
   "metadata": {
    "id": "P-pey7JNm1dL"
   },
   "outputs": [],
   "source": [
    "oscar_movies = [\"Moonlight\", \"Black Panther\", \"Coda\"]"
   ]
  },
  {
   "cell_type": "markdown",
   "id": "U3UYT5t5nr3c",
   "metadata": {
    "id": "U3UYT5t5nr3c"
   },
   "source": [
    "---\n",
    "### Back to Lecture\n",
    "\n",
    "---"
   ]
  },
  {
   "cell_type": "markdown",
   "id": "D-bjuiRLnq5w",
   "metadata": {
    "id": "D-bjuiRLnq5w"
   },
   "source": [
    "### Practice Together #3\n",
    "---\n",
    "1. Use the list below and index for Spanish.\n",
    "\n"
   ]
  },
  {
   "cell_type": "code",
   "execution_count": 3,
   "id": "zbN7-UWCoLch",
   "metadata": {
    "id": "zbN7-UWCoLch"
   },
   "outputs": [
    {
     "name": "stdout",
     "output_type": "stream",
     "text": [
      "Spanish\n",
      "2\n"
     ]
    }
   ],
   "source": [
    "languages = [\"French\", \"Arabic\", \"Spanish\",[1,2,3]]\n",
    "\n",
    "print(languages[2])\n",
    "print(languages[3][1])"
   ]
  },
  {
   "cell_type": "markdown",
   "id": "M0_MNpHBouWQ",
   "metadata": {
    "id": "M0_MNpHBouWQ"
   },
   "source": [
    "2. Use the list below and index for 104. "
   ]
  },
  {
   "cell_type": "code",
   "execution_count": 21,
   "id": "RMIdyvYOour9",
   "metadata": {
    "id": "RMIdyvYOour9"
   },
   "outputs": [
    {
     "name": "stdout",
     "output_type": "stream",
     "text": [
      "104\n"
     ]
    }
   ],
   "source": [
    "temperature = [89, 92, 93, 104, 107, 108]\n",
    "\n",
    "print(temperature[3])"
   ]
  },
  {
   "cell_type": "markdown",
   "id": "ZNKVhV3jpdqe",
   "metadata": {
    "id": "ZNKVhV3jpdqe"
   },
   "source": [
    "### Exercise #3.1\n",
    "---\n",
    "\n",
    "Using the list `planets`, index for the planet Jupiter."
   ]
  },
  {
   "cell_type": "code",
   "execution_count": 24,
   "id": "nniRjPT8pjHa",
   "metadata": {
    "id": "nniRjPT8pjHa"
   },
   "outputs": [
    {
     "name": "stdout",
     "output_type": "stream",
     "text": [
      "Jupiter\n"
     ]
    }
   ],
   "source": [
    "planets = [\"Mercury\", \"Venus\", \"Earth\", \"Mars\", \"Jupiter\", \"Saturn\", \"Uranus\", \"Neptune\"]\n",
    "\n",
    "for i in planets:\n",
    "    if i == \"Jupiter\":\n",
    "        print(i)"
   ]
  },
  {
   "cell_type": "code",
   "execution_count": null,
   "id": "WhKd4k9zp3d8",
   "metadata": {
    "id": "WhKd4k9zp3d8"
   },
   "outputs": [],
   "source": []
  },
  {
   "cell_type": "markdown",
   "id": "OKLMZgKopjch",
   "metadata": {
    "id": "OKLMZgKopjch"
   },
   "source": [
    "### Exercise #3.2\n",
    "---\n",
    "\n",
    "Using the list `sports`, index for rowing."
   ]
  },
  {
   "cell_type": "code",
   "execution_count": 26,
   "id": "DkDiPYb0qDWg",
   "metadata": {
    "id": "DkDiPYb0qDWg"
   },
   "outputs": [],
   "source": [
    "sports = [\"rowing\", \"weightlifting\", 'mountain biking', \"taekwondo\", \"field hockey\"]"
   ]
  },
  {
   "cell_type": "code",
   "execution_count": 27,
   "id": "PW3vUASkqScM",
   "metadata": {
    "id": "PW3vUASkqScM"
   },
   "outputs": [
    {
     "name": "stdout",
     "output_type": "stream",
     "text": [
      "rowing\n"
     ]
    }
   ],
   "source": [
    "print(sports[0])"
   ]
  },
  {
   "cell_type": "markdown",
   "id": "sKfg6C5YtXt0",
   "metadata": {
    "id": "sKfg6C5YtXt0"
   },
   "source": [
    "---\n",
    "### Back to Lecture\n",
    "\n",
    "---"
   ]
  },
  {
   "cell_type": "markdown",
   "id": "1CrbdeHjrX02",
   "metadata": {
    "id": "1CrbdeHjrX02"
   },
   "source": [
    "### Practice Together #4\n",
    "---\n",
    "1. Starting with an empty list, create a list that ultimately looks like this:\n",
    "\n",
    "```\n",
    "list = [“a”, “b”, “c”]\n",
    "\n",
    "```\n",
    "\n"
   ]
  },
  {
   "cell_type": "code",
   "execution_count": 31,
   "id": "yCu6atqIrd2J",
   "metadata": {
    "id": "yCu6atqIrd2J"
   },
   "outputs": [
    {
     "name": "stdout",
     "output_type": "stream",
     "text": [
      "['a']\n",
      "['a', 'b']\n",
      "['a', 'b', 'c']\n"
     ]
    }
   ],
   "source": [
    "list = []\n",
    "list.append(\"a\")\n",
    "print(list)\n",
    "\n",
    "list.append(\"b\")\n",
    "print(list)\n",
    "\n",
    "list.append(\"c\")\n",
    "print(list)"
   ]
  },
  {
   "cell_type": "markdown",
   "id": "X531X6n4rwtR",
   "metadata": {
    "id": "X531X6n4rwtR"
   },
   "source": [
    "2. Remove 'b'."
   ]
  },
  {
   "cell_type": "code",
   "execution_count": 34,
   "id": "s1ZCAeLQrz8C",
   "metadata": {
    "id": "s1ZCAeLQrz8C"
   },
   "outputs": [
    {
     "name": "stdout",
     "output_type": "stream",
     "text": [
      "['a', 'c']\n"
     ]
    }
   ],
   "source": [
    "list.remove(\"b\")\n",
    "print(list)"
   ]
  },
  {
   "cell_type": "markdown",
   "id": "4tGG8FjfsPwz",
   "metadata": {
    "id": "4tGG8FjfsPwz"
   },
   "source": [
    "Use the following list for Problems 4.1 - 4.3:"
   ]
  },
  {
   "cell_type": "code",
   "execution_count": 35,
   "id": "7N26YSAgsYG6",
   "metadata": {
    "id": "7N26YSAgsYG6"
   },
   "outputs": [],
   "source": [
    "coding_languages = [\"Python\", \"Java\", \"C#\", \"R\"]"
   ]
  },
  {
   "cell_type": "markdown",
   "id": "Cp4v1weasmN_",
   "metadata": {
    "id": "Cp4v1weasmN_"
   },
   "source": [
    "### Exercise #4.1\n",
    "---\n",
    "Remove the programming language Java from the list."
   ]
  },
  {
   "cell_type": "code",
   "execution_count": 37,
   "id": "zSxrJTt_soTA",
   "metadata": {
    "id": "zSxrJTt_soTA"
   },
   "outputs": [],
   "source": [
    "coding_languages.remove(\"Java\")"
   ]
  },
  {
   "cell_type": "code",
   "execution_count": 38,
   "id": "aa2ec499-aed2-4bce-92e4-3e502383c5eb",
   "metadata": {},
   "outputs": [
    {
     "name": "stdout",
     "output_type": "stream",
     "text": [
      "['Python', 'C#', 'R']\n"
     ]
    }
   ],
   "source": [
    "print(coding_languages)"
   ]
  },
  {
   "cell_type": "markdown",
   "id": "__vfMTbMsok2",
   "metadata": {
    "id": "__vfMTbMsok2"
   },
   "source": [
    "### Exercise #4.2\n",
    "---\n",
    "Add `Javascript`."
   ]
  },
  {
   "cell_type": "code",
   "execution_count": 39,
   "id": "DJMeTKPpso-4",
   "metadata": {
    "id": "DJMeTKPpso-4"
   },
   "outputs": [],
   "source": [
    "coding_languages.append(\"Javascript\")"
   ]
  },
  {
   "cell_type": "code",
   "execution_count": 40,
   "id": "d235073f-6712-4981-8a59-1a1995076508",
   "metadata": {},
   "outputs": [
    {
     "name": "stdout",
     "output_type": "stream",
     "text": [
      "['Python', 'C#', 'R', 'Javascript']\n"
     ]
    }
   ],
   "source": [
    "print(coding_languages)"
   ]
  },
  {
   "cell_type": "markdown",
   "id": "oycGZvJGs12Q",
   "metadata": {
    "id": "oycGZvJGs12Q"
   },
   "source": [
    "### Exercise #4.3\n",
    "---\n",
    "Add `Go`."
   ]
  },
  {
   "cell_type": "code",
   "execution_count": 41,
   "id": "AZpMx37us5in",
   "metadata": {
    "id": "AZpMx37us5in"
   },
   "outputs": [
    {
     "name": "stdout",
     "output_type": "stream",
     "text": [
      "['Python', 'C#', 'R', 'Javascript', 'Go']\n"
     ]
    }
   ],
   "source": [
    "coding_languages.append(\"Go\")\n",
    "print(coding_languages)"
   ]
  },
  {
   "cell_type": "markdown",
   "id": "m8_sDMn4tYoy",
   "metadata": {
    "id": "m8_sDMn4tYoy"
   },
   "source": [
    "---\n",
    "### Back to Lecture\n",
    "\n",
    "---"
   ]
  },
  {
   "cell_type": "markdown",
   "id": "y_jayqxJtTZ1",
   "metadata": {
    "id": "y_jayqxJtTZ1"
   },
   "source": [
    "### Practice Together #5\n",
    "---\n",
    "\n",
    "1. Using the list below, replace 104 with 103. \n"
   ]
  },
  {
   "cell_type": "code",
   "execution_count": 49,
   "id": "xfkVOyFUtR7p",
   "metadata": {
    "id": "xfkVOyFUtR7p"
   },
   "outputs": [],
   "source": [
    "list = [101, 102, 104]"
   ]
  },
  {
   "cell_type": "code",
   "execution_count": 50,
   "id": "xTIp0t2Rtup8",
   "metadata": {
    "id": "xTIp0t2Rtup8"
   },
   "outputs": [
    {
     "name": "stdout",
     "output_type": "stream",
     "text": [
      "[101, 102, 103]\n"
     ]
    }
   ],
   "source": [
    "i = list.index(104)\n",
    "\n",
    "list = list[:i] + [103] + list[i+1:]\n",
    "\n",
    "print(list)"
   ]
  },
  {
   "cell_type": "markdown",
   "id": "-mSuz8Tbuy-X",
   "metadata": {
    "id": "-mSuz8Tbuy-X"
   },
   "source": [
    "2. Using the list below, replace `rowing` with `swimming`."
   ]
  },
  {
   "cell_type": "code",
   "execution_count": 51,
   "id": "s4t_aemnuyNn",
   "metadata": {
    "id": "s4t_aemnuyNn"
   },
   "outputs": [
    {
     "name": "stdout",
     "output_type": "stream",
     "text": [
      "['swimming', 'taekwondo', ' hockey']\n"
     ]
    }
   ],
   "source": [
    "sports = [\"rowing\", \"taekwondo\", \" hockey\"]\n",
    "\n",
    "sports[0] = \"swimming\"\n",
    "print(sports)"
   ]
  },
  {
   "cell_type": "code",
   "execution_count": null,
   "id": "1cVtXkcxu1PW",
   "metadata": {
    "id": "1cVtXkcxu1PW"
   },
   "outputs": [],
   "source": []
  },
  {
   "cell_type": "markdown",
   "id": "K0M6t23QyoIB",
   "metadata": {
    "id": "K0M6t23QyoIB"
   },
   "source": [
    "---\n",
    "### Back to Lecture\n",
    "\n",
    "---"
   ]
  },
  {
   "cell_type": "markdown",
   "id": "X0ovuKSdyjxF",
   "metadata": {
    "id": "X0ovuKSdyjxF"
   },
   "source": [
    "### Practice Together #6\n",
    "---\n",
    "\n",
    "1. Create a function called `greeting`. This function takes in no arguments. This function should print the text `\"Welcome back!\"` and return nothing.\n",
    "\n",
    "Then call this function."
   ]
  },
  {
   "cell_type": "code",
   "execution_count": 56,
   "id": "g47IobRQyk32",
   "metadata": {
    "id": "g47IobRQyk32"
   },
   "outputs": [
    {
     "name": "stdout",
     "output_type": "stream",
     "text": [
      "Welcome back!\n"
     ]
    },
    {
     "data": {
      "text/plain": [
       "0"
      ]
     },
     "execution_count": 56,
     "metadata": {},
     "output_type": "execute_result"
    }
   ],
   "source": [
    "def greeting():\n",
    "    print(\"Welcome back!\")\n",
    "    \n",
    "greeting()"
   ]
  },
  {
   "cell_type": "markdown",
   "id": "OG-w5HLMy5Er",
   "metadata": {
    "id": "OG-w5HLMy5Er"
   },
   "source": [
    "2. Create a function called `my_name`. This function should take a an argument containing a string and print out `\"My name is _______\"` where the `___` represents the value of the argument.\n",
    "\n",
    "Call your function to make sure it works."
   ]
  },
  {
   "cell_type": "code",
   "execution_count": 59,
   "id": "_-miUMi8y5jP",
   "metadata": {
    "id": "_-miUMi8y5jP"
   },
   "outputs": [
    {
     "name": "stdout",
     "output_type": "stream",
     "text": [
      "My name is Steven\n"
     ]
    }
   ],
   "source": [
    "def my_name(name):\n",
    "    print(\"My name is \" + name)\n",
    "    \n",
    "my_name(\"Steven\")"
   ]
  },
  {
   "cell_type": "markdown",
   "id": "qraH1Ov70HqZ",
   "metadata": {
    "id": "qraH1Ov70HqZ"
   },
   "source": [
    "---\n",
    "Copyright 2022 The Coding School, All rights reserved"
   ]
  }
 ],
 "metadata": {
  "colab": {
   "collapsed_sections": [],
   "provenance": []
  },
  "kernelspec": {
   "display_name": "Python 3 (ipykernel)",
   "language": "python",
   "name": "python3"
  },
  "language_info": {
   "codemirror_mode": {
    "name": "ipython",
    "version": 3
   },
   "file_extension": ".py",
   "mimetype": "text/x-python",
   "name": "python",
   "nbconvert_exporter": "python",
   "pygments_lexer": "ipython3",
   "version": "3.8.13"
  },
  "widgets": {
   "application/vnd.jupyter.widget-state+json": {
    "state": {},
    "version_major": 2,
    "version_minor": 0
   }
  }
 },
 "nbformat": 4,
 "nbformat_minor": 5
}
